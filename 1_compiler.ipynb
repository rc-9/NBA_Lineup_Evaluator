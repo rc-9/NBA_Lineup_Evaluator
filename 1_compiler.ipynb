{
 "cells": [
  {
   "cell_type": "markdown",
   "id": "71b2a8c5-040d-49da-ba62-d4153d737327",
   "metadata": {},
   "source": [
    "# PART 1: DATA PROCUREMENT\n",
    "\n",
    "This notebook will employ webscraping techniques to retrieve player statistics and lineup data from NBA's stats-API. This information will then be filtered, compiled and outputted into a master CSV for the next stage of the project pipeline.\n",
    "\n",
    "---"
   ]
  },
  {
   "cell_type": "code",
   "execution_count": 1,
   "id": "29f21826-787b-4f8b-bc93-e6b6999df4b8",
   "metadata": {},
   "outputs": [],
   "source": [
    "# API Client\n",
    "from nba_api.stats.endpoints import boxscoretraditionalv2 as BST\n",
    "from nba_api.stats.static import players\n",
    "\n",
    "# Web Scraping\n",
    "from selenium import webdriver\n",
    "from selenium.webdriver.common.by import By\n",
    "from selenium.webdriver.support import expected_conditions as EC\n",
    "from selenium.webdriver.support.ui import Select, WebDriverWait\n",
    "\n",
    "# Data Management\n",
    "import numpy as np\n",
    "import pandas as pd\n",
    "\n",
    "# Utils\n",
    "import difflib\n",
    "from functools import reduce\n",
    "from time import time, sleep"
   ]
  },
  {
   "cell_type": "markdown",
   "id": "33791863-63d0-4dbe-931f-c99849cecba0",
   "metadata": {},
   "source": [
    "## 1A: Data Collection\n",
    "\n",
    "**Objective:** Scrape data from various API-endpoints and store in local dataframes.\n",
    "\n",
    "---"
   ]
  },
  {
   "cell_type": "markdown",
   "id": "67c74505-2377-468c-bea8-a4ee6caa26c7",
   "metadata": {},
   "source": [
    "#### Define end-point URLs of interest:"
   ]
  },
  {
   "cell_type": "code",
   "execution_count": 2,
   "id": "76eef2db-9f80-4082-975a-0c9535f2b64f",
   "metadata": {},
   "outputs": [],
   "source": [
    "# Standard stats\n",
    "player_bio_url = r'https://www.nba.com/players'\n",
    "trad_stats_url = r'https://www.nba.com/stats/players/traditional/?sort=MIN&dir=-1&Season=2021-22&SeasonType=Regular%20Season&PerMode=Totals'\n",
    "adv_stats_url = r'https://www.nba.com/stats/players/advanced/?sort=GP&dir=-1&Season=2021-22&SeasonType=Regular%20Season'\n",
    "misc_stats_url = r'https://www.nba.com/stats/players/misc/?sort=GP&dir=-1&Season=2021-22&SeasonType=Regular%20Season&PerMode=Totals'\n",
    "scoring_stats_url = r'https://www.nba.com/stats/players/scoring/?sort=GP&dir=-1&Season=2021-22&SeasonType=Regular%20Season&PerMode=Totals'\n",
    "usg_stats_url = r'https://www.nba.com/stats/players/usage/?sort=USG_PCT&dir=-1&Season=2021-22&SeasonType=Regular%20Season&PerMode=Totals'\n",
    "opp_stats_url = r'https://www.nba.com/stats/players/opponent/?sort=GP&dir=-1&Season=2021-22&SeasonType=Regular%20Season&PerMode=Totals'\n",
    "def_stats_url = r'https://www.nba.com/stats/players/defense/?sort=DEF_WS&dir=-1&Season=2021-22&SeasonType=Regular%20Season&PerMode=Totals'\n",
    "\n",
    "# Offensive Play-Type stats\n",
    "trsn_o_stats_url = r'https://www.nba.com/stats/players/transition/?SeasonType=Regular%20Season&PerMode=Totals'\n",
    "iso_o_stats_url = r'https://www.nba.com/stats/players/isolation/?SeasonType=Regular%20Season&PerMode=Totals'\n",
    "pnrbh_o_stats_url = r'https://www.nba.com/stats/players/ball-handler/#!?SeasonType=Regular%20Season&PerMode=Totals'\n",
    "pnrrm_o_stats_url = r'https://www.nba.com/stats/players/roll-man/?SeasonType=Regular%20Season&PerMode=Totals'\n",
    "postup_o_stats_url = r'https://www.nba.com/stats/players/playtype-post-up/?SeasonType=Regular%20Season&PerMode=Totals'\n",
    "spotup_o_stats_url = r'https://www.nba.com/stats/players/spot-up/?SeasonType=Regular%20Season&PerMode=Totals'\n",
    "handoff_o_stats_url = r'https://www.nba.com/stats/players/hand-off/?SeasonType=Regular%20Season&PerMode=Totals'\n",
    "cuts_o_stats_url = r'https://www.nba.com/stats/players/cut/?SeasonType=Regular%20Season&PerMode=Totals'\n",
    "offscrn_o_stats_url = r'https://www.nba.com/stats/players/off-screen/?SeasonType=Regular%20Season&PerMode=Totals'\n",
    "putbk_o_stats_url = r'https://www.nba.com/stats/players/putbacks/?SeasonType=Regular%20Season&PerMode=Totals'\n",
    "\n",
    "# Defensive Play-Type stats\n",
    "iso_d_stats_url = r'https://www.nba.com/stats/players/isolation/?SeasonType=Regular%20Season&PerMode=Totals&TypeGrouping=defensive'\n",
    "pnrbh_d_stats_url = r'https://www.nba.com/stats/players/ball-handler/#!?SeasonType=Regular%20Season&PerMode=Totals&TypeGrouping=defensive'\n",
    "pnrrm_d_stats_url = r'https://www.nba.com/stats/players/roll-man/?SeasonType=Regular%20Season&PerMode=Totals&TypeGrouping=defensive'\n",
    "postup_d_stats_url = r'https://www.nba.com/stats/players/playtype-post-up/?SeasonType=Regular%20Season&PerMode=Totals&TypeGrouping=defensive'\n",
    "spotup_d_stats_url = r'https://www.nba.com/stats/players/spot-up/?SeasonType=Regular%20Season&PerMode=Totals&TypeGrouping=defensive'\n",
    "handoff_d_stats_url = r'https://www.nba.com/stats/players/hand-off/?SeasonType=Regular%20Season&PerMode=Totals&TypeGrouping=defensive'\n",
    "offscrn_d_stats_url = r'https://www.nba.com/stats/players/off-screen/?SeasonType=Regular%20Season&PerMode=Totals&TypeGrouping=defensive'\n",
    "eff_d_stats_url = r'https://www.nba.com/stats/players/opponent-shooting/?Season=2021-22&SeasonType=Regular%20Season&PerMode=Totals&DistanceRange=By%20Zone'\n",
    "\n",
    "# Tracking stats\n",
    "drives_stats_url = r'https://www.nba.com/stats/players/drives/?Season=2021-22&SeasonType=Regular%20Season&PerMode=Totals'\n",
    "cns_stats_url = r'https://www.nba.com/stats/players/shots-general/?Season=2021-22&SeasonType=Regular%20Season&sort=FG3M&dir=1&PerMode=Totals&GeneralRange=Catch%20and%20Shoot'\n",
    "pass_stats_url = r'https://www.nba.com/stats/players/passing/?Season=2021-22&SeasonType=Regular%20Season&PerMode=Totals'\n",
    "touches_stats_url = r'https://www.nba.com/stats/players/touches/?Season=2021-22&SeasonType=Regular%20Season&PerMode=Totals'\n",
    "pullup_stats_url = r'https://www.nba.com/stats/players/shots-general/?Season=2021-22&SeasonType=Regular%20Season&sort=FG3M&dir=1&PerMode=Totals&GeneralRange=Pullups'\n",
    "reb_stats_url = r'https://www.nba.com/stats/players/rebounding/?Season=2021-22&SeasonType=Regular%20Season&PerMode=Totals'\n",
    "mvmt_stats_url = r'https://www.nba.com/stats/players/speed-distance/?Season=2021-22&SeasonType=Regular%20Season&PerMode=Totals'\n",
    "hustle_stats_url = r'https://www.nba.com/stats/players/hustle/?Season=2021-22&SeasonType=Regular%20Season&PerMode=Totals'\n",
    "boxouts_stats_url = r'https://www.nba.com/stats/players/box-outs/?Season=2021-22&SeasonType=Regular%20Season&PerMode=Totals'\n",
    "\n",
    "# Dribble / Touch stats\n",
    "dr_0_url = r'https://www.nba.com/stats/players/shots-dribbles/?Season=2021-22&SeasonType=Regular%20Season&PerMode=Totals'\n",
    "dr_1_url = r'https://www.nba.com/stats/players/shots-dribbles/?Season=2021-22&SeasonType=Regular%20Season&PerMode=Totals&DribbleRange=1%20Dribble'\n",
    "dr_2_url = r'https://www.nba.com/stats/players/shots-dribbles/?Season=2021-22&SeasonType=Regular%20Season&PerMode=Totals&DribbleRange=2%20Dribbles'\n",
    "dr_3_6_url = r'https://www.nba.com/stats/players/shots-dribbles/?Season=2021-22&SeasonType=Regular%20Season&PerMode=Totals&DribbleRange=3-6%20Dribbles'\n",
    "dr_7plus_url = r'https://www.nba.com/stats/players/shots-dribbles/?Season=2021-22&SeasonType=Regular%20Season&PerMode=Totals&DribbleRange=7%2B%20Dribbles'\n",
    "tch_0_2_url = r'https://www.nba.com/stats/players/shots-touch-time/?Season=2021-22&SeasonType=Regular%20Season&PerMode=Totals'\n",
    "tch_2_6_url = r'https://www.nba.com/stats/players/shots-touch-time/?Season=2021-22&SeasonType=Regular%20Season&PerMode=Totals&TouchTimeRange=Touch%202-6%20Seconds'\n",
    "tch_6plus_url = 'https://www.nba.com/stats/players/shots-touch-time/?Season=2021-22&SeasonType=Regular%20Season&PerMode=Totals&TouchTimeRange=Touch%206%2B%20Seconds'\n",
    "\n",
    "# Shooting stats\n",
    "eff_zone_stats_url = r'https://www.nba.com/stats/players/shooting/?Season=2021-22&SeasonType=Regular%20Season&PerMode=Totals&DistanceRange=By%20Zone'\n",
    "eff_playtype_stats_url = r'https://www.nba.com/stats/players/shooting-efficiency/?Season=2021-22&SeasonType=Regular%20Season&PerMode=Totals'\n",
    "\n",
    "# Lineup stats\n",
    "lineup_stats_url = r'https://www.nba.com/stats/lineups/advanced/?Season=2021-22&SeasonType=Regular%20Season'"
   ]
  },
  {
   "cell_type": "markdown",
   "id": "e4067d30-4a39-47a1-9d06-832e8fb8be1f",
   "metadata": {},
   "source": [
    "#### Establish driver & setup a standardized scraper:"
   ]
  },
  {
   "cell_type": "code",
   "execution_count": 3,
   "id": "d9079899-0033-41b8-bb26-fdab035f841b",
   "metadata": {},
   "outputs": [],
   "source": [
    "driver = webdriver.Firefox(executable_path='/Users/rc/Applications/geckodriver')\n",
    "sleep(5)  # ensure enough time for driver setup"
   ]
  },
  {
   "cell_type": "code",
   "execution_count": 4,
   "id": "c99113ea-6d5a-405b-8268-b194c16ff45d",
   "metadata": {},
   "outputs": [],
   "source": [
    "def nba_api_scraper(url, std_fmt=True, cols=None, xp=None):\n",
    "    \"\"\"Takes input page url and returns scraped stats table from the webpage of interest.\"\"\"\n",
    "    \n",
    "    # Use driver to retrieve url\n",
    "    driver.get(url)\n",
    "    \n",
    "    # Define x-path of interest for selection\n",
    "    if xp == None:\n",
    "        xp = r'/html/body/main/div/div/div[2]/div/div/nba-stat-table/div[1]/div/div/select'\n",
    "    \n",
    "    # Implement explicit wait time to ensure page loads to prevent execution errors\n",
    "    elem = WebDriverWait(driver, 30).until(EC.presence_of_element_located((By.XPATH, xp)))\n",
    "    \n",
    "    # Select 'All' rows split amongst multiple pages\n",
    "    select = Select(driver.find_element_by_xpath(xp))\n",
    "    select.select_by_index(0)  # first elem is 'All'\n",
    "\n",
    "    # Read data based on source page format\n",
    "    pg_src = driver.page_source\n",
    "    if std_fmt == True:\n",
    "        table = pd.read_html(pg_src)[0]\n",
    "        table = table[[col for col in table.columns if 'RANK' not in col]]  # remove error columns\n",
    "    else:\n",
    "        table = pd.read_html(pg_src)[0]\n",
    "        table = table.iloc[1200:].reset_index(drop=True)  # removing null-rows resulting from pg selection\n",
    "        table.columns = cols\n",
    "              \n",
    "    return table"
   ]
  },
  {
   "cell_type": "markdown",
   "id": "82d1ccba-8286-4dda-a9f0-d9502680da4e",
   "metadata": {},
   "source": [
    "#### Collect data from each end-point URL:"
   ]
  },
  {
   "cell_type": "code",
   "execution_count": 5,
   "id": "5f179390-8aba-40a4-8d4f-5427e2b54f81",
   "metadata": {},
   "outputs": [],
   "source": [
    "### Standard stats\n",
    "player_bio_df = nba_api_scraper(player_bio_url, xp='/html/body/div[1]/div[2]/div[3]/section/div/div[2]/div[1]/div[7]/div/div[3]/div/label/div/select')\n",
    "trad_stats_df = nba_api_scraper(trad_stats_url)\n",
    "adv_stats_df = nba_api_scraper(adv_stats_url)\n",
    "scoring_stats_df = nba_api_scraper(scoring_stats_url)\n",
    "usg_stats_df = nba_api_scraper(usg_stats_url)\n",
    "opp_stats_df = nba_api_scraper(opp_stats_url)\n",
    "def_stats_df = nba_api_scraper(def_stats_url)"
   ]
  },
  {
   "cell_type": "code",
   "execution_count": 6,
   "id": "81158664-f06b-471e-9d5e-9cca5d38da6d",
   "metadata": {},
   "outputs": [],
   "source": [
    "### Offensive Play-Type stats\n",
    "trsn_o_stats_df = nba_api_scraper(trsn_o_stats_url)\n",
    "iso_o_stats_df = nba_api_scraper(iso_o_stats_url)\n",
    "pnrbh_o_stats_df = nba_api_scraper(pnrbh_o_stats_url)\n",
    "pnrrm_o_stats_df = nba_api_scraper(pnrrm_o_stats_url)\n",
    "postup_o_stats_df = nba_api_scraper(postup_o_stats_url)\n",
    "spotup_o_stats_df = nba_api_scraper(spotup_o_stats_url)\n",
    "handoff_o_stats_df = nba_api_scraper(handoff_o_stats_url)\n",
    "cuts_o_stats_df = nba_api_scraper(cuts_o_stats_url)\n",
    "offscrn_o_stats_df = nba_api_scraper(offscrn_o_stats_url)\n",
    "putbk_o_stats_df = nba_api_scraper(putbk_o_stats_url)"
   ]
  },
  {
   "cell_type": "code",
   "execution_count": 7,
   "id": "16b52ef6-3407-4f46-b5b8-53648d897816",
   "metadata": {},
   "outputs": [],
   "source": [
    "### Defensive Play-Type stats\n",
    "iso_d_stats_df = nba_api_scraper(iso_d_stats_url)\n",
    "pnrbh_d_stats_df = nba_api_scraper(pnrbh_d_stats_url)\n",
    "pnrrm_d_stats_df = nba_api_scraper(pnrrm_d_stats_url)\n",
    "postup_d_stats_df = nba_api_scraper(postup_d_stats_url)\n",
    "spotup_d_stats_df = nba_api_scraper(spotup_d_stats_url)\n",
    "handoff_d_stats_df = nba_api_scraper(handoff_d_stats_url)\n",
    "offscrn_d_stats_df = nba_api_scraper(offscrn_d_stats_url)\n",
    "eff_d_cols = ['PLAYER', 'TEAM', 'Age', 'opp_RA_FGM', 'opp_RA_FGA', 'opp_RA_FG%', 'opp_PT_nonRA_FGM', 'opp_PT_nonRA_FGA', 'opp_PT_nonRA_FG%', 'opp_MR_FGM', 'opp_MR_FGA', 'opp_MR_FG%', 'opp_LC_FGM', 'opp_LC_FGA', 'opp_LC_FG%', 'opp_RC_FGM', 'opp_RC_FGA', 'opp_RC_FG%', 'opp_Corner3_FGM', 'opp_Corner3_FGA', 'opp_Corner3_FG%', 'opp_ATB3_FGM', 'opp_ATB3_FGA', 'opp_ATB3_FG%']\n",
    "eff_d_stats_df = nba_api_scraper(eff_d_stats_url, False, eff_d_cols)"
   ]
  },
  {
   "cell_type": "code",
   "execution_count": 8,
   "id": "5afaecd1-6f1a-4d5c-993c-5de6edd04db0",
   "metadata": {},
   "outputs": [],
   "source": [
    "### Tracking stats\n",
    "drives_stats_df = nba_api_scraper(drives_stats_url)\n",
    "cns_stats_df = nba_api_scraper(cns_stats_url)\n",
    "pass_stats_df = nba_api_scraper(pass_stats_url)\n",
    "touches_stats_df = nba_api_scraper(touches_stats_url)\n",
    "pullup_stats_df = nba_api_scraper(pullup_stats_url)\n",
    "reb_stats_df = nba_api_scraper(reb_stats_url)\n",
    "mvmt_stats_df = nba_api_scraper(mvmt_stats_url)\n",
    "hustle_stats_df = nba_api_scraper(hustle_stats_url)\n",
    "boxouts_stats_df = nba_api_scraper(boxouts_stats_url)"
   ]
  },
  {
   "cell_type": "code",
   "execution_count": 9,
   "id": "a67221eb-644b-4429-8fe7-0c65c4a17acf",
   "metadata": {},
   "outputs": [],
   "source": [
    "### Dribble stats\n",
    "dr_0_df = nba_api_scraper(dr_0_url)\n",
    "dr_1_df = nba_api_scraper(dr_1_url)\n",
    "dr_2_df = nba_api_scraper(dr_2_url)\n",
    "dr_3_6_df = nba_api_scraper(dr_3_6_url)\n",
    "dr_7plus_df = nba_api_scraper(dr_7plus_url)"
   ]
  },
  {
   "cell_type": "code",
   "execution_count": 10,
   "id": "cc31c102-e10e-4b88-80be-5a44e18cf444",
   "metadata": {},
   "outputs": [],
   "source": [
    "### Touch-time stats\n",
    "tch_0_2_df = nba_api_scraper(tch_0_2_url)\n",
    "tch_2_6_df = nba_api_scraper(tch_2_6_url)\n",
    "tch_6plus_df = nba_api_scraper(tch_6plus_url)"
   ]
  },
  {
   "cell_type": "code",
   "execution_count": 11,
   "id": "1ab9bb57-ff9d-44a8-95de-fdd35dfeea0a",
   "metadata": {},
   "outputs": [],
   "source": [
    "### Shooting stats\n",
    "eff_zone_cols = ['PLAYER', 'TEAM', 'Age', 'RA_FGM', 'RA_FGA', 'RA_FG%', 'PT_nonRA_FGM', 'PT_nonRA_FGA', 'PT_nonRA_FG%', 'MR_FGM', 'MR_FGA', 'MR_FG%', 'LC_FGM', 'LC_FGA', 'LC_FG%', 'RC_FGM', 'RC_FGA', 'RC_FG%', 'Corner3_FGM', 'Corner3_FGA', 'Corner3_FG%', 'ATB3_FGM', 'ATB3_FGA', 'ATB3_FG%']\n",
    "eff_o_stats_df = nba_api_scraper(eff_zone_stats_url, False, eff_zone_cols)\n",
    "# eff_playtype_stats_df = nba_api_scraper(eff_playtype_stats_url)"
   ]
  },
  {
   "cell_type": "code",
   "execution_count": 12,
   "id": "70ebda48-b4a4-4ae1-91e7-330b992518b6",
   "metadata": {},
   "outputs": [],
   "source": [
    "### Lineup stats\n",
    "lineup_stats_df = nba_api_scraper(lineup_stats_url)"
   ]
  },
  {
   "cell_type": "code",
   "execution_count": 13,
   "id": "458d3bd7-b3bb-4569-a36f-0ee2c3453059",
   "metadata": {},
   "outputs": [],
   "source": [
    "# Close driver after data retrieval\n",
    "driver.close()"
   ]
  },
  {
   "cell_type": "markdown",
   "id": "b350bbc0-52a8-4a64-882a-a9a88080b289",
   "metadata": {},
   "source": [
    "## 1B: Data Condensation\n",
    "\n",
    "**Objective:** Perform initial standardization & filtering steps to prepare datasets for compilation.\n",
    "\n",
    "In this section, each dataset will be filtered for only columns of interest, based on NBA's stats glossary: https://www.nba.com/stats/help/glossary/. Through the use of some helper functions, minor standardization steps are taken (i.e., player & attribute naming convention) to prepare for data compilation in the next section.\n",
    "\n",
    "---"
   ]
  },
  {
   "cell_type": "markdown",
   "id": "749acbb1-4f46-4e14-acb6-2803e49ff341",
   "metadata": {},
   "source": [
    "#### Define helper functions for basic standardization procedures across dataframes:"
   ]
  },
  {
   "cell_type": "code",
   "execution_count": 14,
   "id": "4166d634-c0b2-46c8-a02e-8ab7c0d9a666",
   "metadata": {},
   "outputs": [],
   "source": [
    "def name_formatter(name_str):\n",
    "    \"\"\"Converts player naming convention from 'Last, First' to 'First Last' format.\"\"\"\n",
    "    \n",
    "    last, first = name_str.split(', ')\n",
    "    mod_name_str = first + ' ' + last\n",
    "    return mod_name_str\n",
    "\n",
    "def name_matcher(df1, col1, df2, col2):\n",
    "    \"\"\"Replaces col1 of df1 with closest string value match of col2 from df2 and returns modified array.\"\"\"\n",
    "    \n",
    "    std_names = df2[col2].tolist()\n",
    "    malformed_names = df1[col1].tolist()\n",
    "    new_names = []\n",
    "    for mal_name in malformed_names:\n",
    "        new_name = difflib.get_close_matches(mal_name, std_names, n=1, cutoff=0.9)\n",
    "        if new_name != []:\n",
    "            new_names.append(new_name[0])\n",
    "        else:\n",
    "            new_names.append('')\n",
    "            \n",
    "    return new_names  \n",
    "\n",
    "def play_style_cleaner(df, prefix):\n",
    "    \"\"\"Aggregates duplicated player info (due to mid-season trades) and returns processed df.\"\"\"\n",
    "    \n",
    "    df = df.groupby('Player', as_index=False).agg({'FGM': 'sum', 'FGA': 'sum'})\n",
    "    \n",
    "    df = df.rename(columns={'Player': 'PLAYER', 'FGM': prefix+'FGM', 'FGA': prefix+'FGA'})\n",
    "    df = df[['PLAYER', prefix+'FGM', prefix+'FGA']].reset_index(drop=True)\n",
    "    \n",
    "    return df"
   ]
  },
  {
   "cell_type": "markdown",
   "id": "e638abd6-1647-4833-9e3d-f6804aa5ae3d",
   "metadata": {
    "tags": []
   },
   "source": [
    "#### Standardize and condense the traditional and advanced statistical data:"
   ]
  },
  {
   "cell_type": "code",
   "execution_count": 15,
   "id": "0a469137-de8e-4493-9f53-cdd4ff36a2b2",
   "metadata": {},
   "outputs": [],
   "source": [
    "player_bio_df = player_bio_df.rename(columns={'Player': 'PLAYER', 'Team': 'TEAM', 'Position': 'POS', 'Height': 'H'})\n",
    "player_bio_df = player_bio_df[['PLAYER', 'TEAM', 'POS', 'H']]"
   ]
  },
  {
   "cell_type": "code",
   "execution_count": 16,
   "id": "f78abb24-fdee-4c7d-8884-cd6ebd73f9df",
   "metadata": {},
   "outputs": [],
   "source": [
    "trad_stats_df = trad_stats_df[['PLAYER', 'GP', 'MIN', 'PTS', 'FGM', 'FGA', 'FG%', '3PM', '3PA', '3P%', 'FTM', 'FTA', 'FT%', 'REB', 'AST', 'TOV', 'STL', 'BLK']]\n",
    "\n",
    "# Replace malforned names in player bio dataframe with names from traditional stats dataframe\n",
    "player_bio_df['PLAYER'] = name_matcher(player_bio_df, 'PLAYER', trad_stats_df, 'PLAYER')\n",
    "player_bio_df = player_bio_df[player_bio_df.PLAYER != ''].reset_index(drop=True)  # filter out players of this season that won't have stats (and hence name records) "
   ]
  },
  {
   "cell_type": "code",
   "execution_count": 17,
   "id": "fcfae396-bce4-43c1-8401-67c6a4d43eaf",
   "metadata": {},
   "outputs": [],
   "source": [
    "adv_stats_df = adv_stats_df[['PLAYER', 'POSS']]"
   ]
  },
  {
   "cell_type": "code",
   "execution_count": 18,
   "id": "1beeea9f-740b-4974-8fe4-59a9f27442ac",
   "metadata": {},
   "outputs": [],
   "source": [
    "usg_stats_df = usg_stats_df.rename(columns={'Player': 'PLAYER'})\n",
    "usg_stats_df = usg_stats_df[['PLAYER', 'USG%', '%FGA', '%3PA', '%FTA', '%REB', '%AST', '%BLKA', '%PFD', '%PTS']]  # percentile stats are in relation to team's total"
   ]
  },
  {
   "cell_type": "markdown",
   "id": "ed68d65a-407f-4059-8d2b-0cf82b85f23e",
   "metadata": {},
   "source": [
    "#### Standardize and condense scoring-efficiency-related statistics:"
   ]
  },
  {
   "cell_type": "code",
   "execution_count": 19,
   "id": "5e75201b-407f-4646-8812-ccec5f8e5d13",
   "metadata": {},
   "outputs": [],
   "source": [
    "eff_o_stats_df = eff_o_stats_df   # remove dup rows at top generated from the scrape\n",
    "eff_o_stats_df = eff_o_stats_df[['PLAYER', 'RA_FGA', 'RA_FGM', 'PT_nonRA_FGA', 'PT_nonRA_FGM', 'MR_FGA', 'MR_FGM', 'LC_FGA', 'LC_FGM', 'RC_FGA', 'RC_FGM', 'Corner3_FGA', 'Corner3_FGM', 'ATB3_FGA', 'ATB3_FGM']]"
   ]
  },
  {
   "cell_type": "code",
   "execution_count": 20,
   "id": "9e8252ee-a320-48bb-a385-9d456e808685",
   "metadata": {},
   "outputs": [],
   "source": [
    "cns_stats_df.columns = [i[1] for i in cns_stats_df.columns]  # eliminiating multi-index\n",
    "cns_stats_df = cns_stats_df.rename(columns={'Player': 'PLAYER', '2FGA': 'cns_2FGA', '2FGM': 'cns_2FGM', '3PA': 'cns_3PA', '3PM': 'cns_3PM'})\n",
    "cns_stats_df = cns_stats_df[['PLAYER', 'cns_2FGA', 'cns_2FGM', 'cns_3PA', 'cns_3PM']]"
   ]
  },
  {
   "cell_type": "code",
   "execution_count": 21,
   "id": "e324e06a-8d23-418c-909c-f161e8b77329",
   "metadata": {},
   "outputs": [],
   "source": [
    "pullup_stats_df.columns = [i[1] for i in pullup_stats_df.columns]  # eliminiating multi-index\n",
    "pullup_stats_df = pullup_stats_df.rename(columns={'Player': 'PLAYER', '2FGA': 'pullup_2FGA', '2FGM': 'pullup_2FGM', '3PA': 'pullup_3PA', '3PM': 'pullup_3PM'})\n",
    "pullup_stats_df = pullup_stats_df[['PLAYER', 'pullup_2FGA', 'pullup_2FGM', 'pullup_3PA', 'pullup_3PM']]"
   ]
  },
  {
   "cell_type": "markdown",
   "id": "4c69a278-5809-48e8-8b65-6a287775899e",
   "metadata": {},
   "source": [
    "#### Standardize and condense offensive-style data:"
   ]
  },
  {
   "cell_type": "code",
   "execution_count": 22,
   "id": "6e1f2f77-8378-4de1-ba86-2f658438e59b",
   "metadata": {},
   "outputs": [],
   "source": [
    "scoring_stats_df = scoring_stats_df.rename(columns={'Player':'PLAYER', '%PTS2PT\\xa0MR': '%PTS2PT MR'})\n",
    "scoring_stats_df = scoring_stats_df[['PLAYER', '%FGA2PT', '%FGA3PT', '%PTS2PT', '%PTS2PT MR', '%PTS3PT', '%PTSFBPs', '%PTSFT', '%PTSOffTO', '%PTSPITP', '2FGM%AST', '2FGM%UAST', '3FGM%AST', '3FGM%UAST']]"
   ]
  },
  {
   "cell_type": "code",
   "execution_count": 23,
   "id": "cafa1789-45ce-4c65-a5cc-c2065d363b45",
   "metadata": {},
   "outputs": [],
   "source": [
    "trsn_o_stats_df = play_style_cleaner(trsn_o_stats_df, 'trsn_')\n",
    "\n",
    "iso_o_stats_df = play_style_cleaner(iso_o_stats_df, 'iso_')\n",
    "\n",
    "pnrbh_o_stats_df = play_style_cleaner(pnrbh_o_stats_df, 'pnrbh_')\n",
    "\n",
    "pnrrm_o_stats_df = play_style_cleaner(pnrrm_o_stats_df, 'pnrrm_')\n",
    "\n",
    "postup_o_stats_df = play_style_cleaner(postup_o_stats_df, 'postup_')\n",
    "\n",
    "spotup_o_stats_df = play_style_cleaner(spotup_o_stats_df, 'spotup_')\n",
    "\n",
    "handoff_o_stats_df = play_style_cleaner(handoff_o_stats_df, 'handoff_')\n",
    "\n",
    "cuts_o_stats_df = play_style_cleaner(cuts_o_stats_df, 'cuts_')\n",
    "\n",
    "offscrn_o_stats_df = play_style_cleaner(offscrn_o_stats_df, 'offscrn_')\n",
    "\n",
    "putbk_o_stats_df = play_style_cleaner(putbk_o_stats_df, 'putbk_')"
   ]
  },
  {
   "cell_type": "code",
   "execution_count": 24,
   "id": "6a7d3b2e-d106-494c-b56c-fc98c288337c",
   "metadata": {},
   "outputs": [],
   "source": [
    "drives_stats_df = drives_stats_df.rename(columns={'Player': 'PLAYER', 'FGA': 'drives_FGA', 'FGM': 'drives_FGM', 'PTS': 'drives_PTS', 'PASS%': 'drives_PASS%', 'AST%': 'drives_AST%'})\n",
    "drives_stats_df = drives_stats_df[['PLAYER', 'DRIVES', 'drives_FGA', 'drives_FGM', 'drives_PTS', 'drives_PASS%', 'drives_AST%']]"
   ]
  },
  {
   "cell_type": "code",
   "execution_count": 25,
   "id": "04686432-8a35-461c-88a9-117e3c28ab56",
   "metadata": {},
   "outputs": [],
   "source": [
    "pass_stats_df = pass_stats_df.rename(columns={'Player': 'PLAYER', 'AST\\xa0PTSCreated': 'AST PTSCreated', 'AST\\xa0ToPass%\\xa0Adj': 'AST ToPass% Adj'})\n",
    "pass_stats_df = pass_stats_df[['PLAYER', 'PassesMade', 'PassesReceived', 'SecondaryAST', 'PotentialAST', 'AST PTSCreated', 'ASTAdj', 'AST ToPass% Adj']]"
   ]
  },
  {
   "cell_type": "code",
   "execution_count": 26,
   "id": "ce491508-9b43-4f6c-abf7-ee0617bdaf1d",
   "metadata": {},
   "outputs": [],
   "source": [
    "### Dribble stats\n",
    "\n",
    "dr_0_df.columns = [i[1] for i in dr_0_df.columns]  # eliminiating multi-index\n",
    "dr_0_df = dr_0_df.rename(columns={'Player': 'PLAYER', '2FGA': 'dr_0_2FGA', '2FGM': 'dr_0_2FGM', '3PA': 'dr_0_3PA', '3PM': 'dr_0_3PM'})\n",
    "dr_0_df = dr_0_df[['PLAYER', 'dr_0_2FGA', 'dr_0_2FGM', 'dr_0_3PA', 'dr_0_3PM']]\n",
    "\n",
    "dr_1_df.columns = [i[1] for i in dr_1_df.columns]  # eliminiating multi-index\n",
    "dr_1_df = dr_1_df.rename(columns={'Player': 'PLAYER', '2FGA': 'dr_1_2FGA', '2FGM': 'dr_1_2FGM', '3PA': 'dr_1_3PA', '3PM': 'dr_1_3PM'})\n",
    "dr_1_df = dr_1_df[['PLAYER', 'dr_1_2FGA', 'dr_1_2FGM', 'dr_1_3PA', 'dr_1_3PM']]\n",
    "\n",
    "dr_2_df.columns = [i[1] for i in dr_2_df.columns]  # eliminiating multi-index\n",
    "dr_2_df = dr_2_df.rename(columns={'Player': 'PLAYER', '2FGA': 'dr_2_2FGA', '2FGM': 'dr_2_2FGM', '3PA': 'dr_2_3PA', '3PM': 'dr_2_3PM'})\n",
    "dr_2_df = dr_2_df[['PLAYER', 'dr_2_2FGA', 'dr_2_2FGM', 'dr_2_3PA', 'dr_2_3PM']]\n",
    "\n",
    "dr_3_6_df.columns = [i[1] for i in dr_3_6_df.columns]  # eliminiating multi-index\n",
    "dr_3_6_df = dr_3_6_df.rename(columns={'Player': 'PLAYER', '2FGA': 'dr_3_6_2FGA', '2FGM': 'dr_3_6_2FGM', '3PA': 'dr_3_6_3PA', '3PM': 'dr_3_6_3PM'})\n",
    "dr_3_6_df = dr_3_6_df[['PLAYER', 'dr_3_6_2FGA', 'dr_3_6_2FGM', 'dr_3_6_3PA', 'dr_3_6_3PM']]\n",
    "\n",
    "dr_7plus_df.columns = [i[1] for i in dr_7plus_df.columns]  # eliminiating multi-index\n",
    "dr_7plus_df = dr_7plus_df.rename(columns={'Player': 'PLAYER', '2FGA': 'dr_7plus_2FGA', '2FGM': 'dr_7plus_2FGM', '3PA': 'dr_7plus_3PA', '3PM': 'dr_7plus_3PM'})\n",
    "dr_7plus_df = dr_7plus_df[['PLAYER', 'dr_7plus_2FGA', 'dr_7plus_2FGM', 'dr_7plus_3PA', 'dr_7plus_3PM']]"
   ]
  },
  {
   "cell_type": "code",
   "execution_count": 27,
   "id": "50cf81ed-635d-4f3e-b044-f801da7bb7f5",
   "metadata": {},
   "outputs": [],
   "source": [
    "### Touch-time stats\n",
    "\n",
    "tch_0_2_df.columns = [i[1] for i in tch_0_2_df.columns]  # eliminiating multi-index\n",
    "tch_0_2_df = tch_0_2_df.rename(columns={'Player': 'PLAYER', '2FGA': 'tch_0_2_2FGA', '2FGM': 'tch_0_2_2FGM', '3PA': 'tch_0_2_3PA', '3PM': 'tch_0_2_3PM'})\n",
    "tch_0_2_df = tch_0_2_df[['PLAYER', 'tch_0_2_2FGA', 'tch_0_2_2FGM', 'tch_0_2_3PA', 'tch_0_2_3PM']]\n",
    "\n",
    "tch_2_6_df.columns = [i[1] for i in tch_2_6_df.columns]  # eliminiating multi-index\n",
    "tch_2_6_df = tch_2_6_df.rename(columns={'Player': 'PLAYER', '2FGA': 'tch_2_6_2FGA', '2FGM': 'tch_2_6_2FGM', '3PA': 'tch_2_6_3PA', '3PM': 'tch_2_6_3PM'})\n",
    "tch_2_6_df = tch_2_6_df[['PLAYER', 'tch_2_6_2FGA', 'tch_2_6_2FGM', 'tch_2_6_3PA', 'tch_2_6_3PM']]\n",
    "\n",
    "tch_6plus_df.columns = [i[1] for i in tch_6plus_df.columns]  # eliminiating multi-index\n",
    "tch_6plus_df = tch_6plus_df.rename(columns={'Player': 'PLAYER', '2FGA': 'tch_6plus_2FGA', '2FGM': 'tch_6plus_2FGM', '3PA': 'tch_6plus_3PA', '3PM': 'tch_6plus_3PM'})\n",
    "tch_6plus_df = tch_6plus_df[['PLAYER', 'tch_6plus_2FGA', 'tch_6plus_2FGM', 'tch_6plus_3PA', 'tch_6plus_3PM']]"
   ]
  },
  {
   "cell_type": "markdown",
   "id": "a17f26ce-d177-49ba-8176-efce34bbbb29",
   "metadata": {},
   "source": [
    "#### Standardize and condense tracking-related data:"
   ]
  },
  {
   "cell_type": "code",
   "execution_count": 28,
   "id": "43740b79-1d0e-424f-8dd8-5f36daed515a",
   "metadata": {},
   "outputs": [],
   "source": [
    "touches_stats_df = touches_stats_df.rename(columns={'Player': 'PLAYER', 'Avg\\xa0Sec\\xa0PerTouch': 'Avg Sec PerTouch', 'Avg\\xa0Drib\\xa0PerTouch': 'Avg Drib PerTouch', 'PTS\\xa0PerTouch': 'PTS PerTouch',\n",
    "                                                   'PTS\\xa0PerElbow\\xa0Touch': 'PTS PerElbow Touch', 'PTS\\xa0PerPost\\xa0Touch': 'PTS PerPost Touch', 'PTS\\xa0PerPaint\\xa0Touch': 'PTS PerPaint Touch'})\n",
    "touches_stats_df = touches_stats_df[['PLAYER', 'TOUCHES', 'Avg Sec PerTouch', 'Avg Drib PerTouch', 'PTS PerTouch', 'ElbowTouches', \n",
    "                                     'PostUps', 'PaintTouches', 'PTS PerElbow Touch', 'PTS PerPost Touch', 'PTS PerPaint Touch']]\n",
    "\n",
    "reb_stats_df = reb_stats_df.rename(columns={'Player': 'PLAYER', 'AVG\\xa0REBDistance': 'AVG REBDistance'})\n",
    "reb_stats_df = reb_stats_df[['PLAYER', 'ContestedREB%',  'AVG REBDistance']]\n",
    "\n",
    "mvmt_stats_df = mvmt_stats_df.rename(columns={'Player': 'PLAYER', 'Dist.\\xa0Miles\\xa0Off': 'Dist. Miles Off', 'Dist.\\xa0Miles\\xa0Def': 'Dist. Miles Def'})\n",
    "mvmt_stats_df = mvmt_stats_df[['PLAYER', 'Dist. Miles Off', 'Dist. Miles Def']]\n",
    "\n",
    "boxouts_stats_df = boxouts_stats_df.rename(columns={'Player': 'PLAYER', 'Box\\xa0Outs': 'Box Outs'})\n",
    "boxouts_stats_df = boxouts_stats_df[['PLAYER', 'Box Outs']]"
   ]
  },
  {
   "cell_type": "markdown",
   "id": "7cce574b-0575-4504-aede-03e4bd6dd357",
   "metadata": {},
   "source": [
    "#### Standardize and condense defensive statistics:"
   ]
  },
  {
   "cell_type": "code",
   "execution_count": 29,
   "id": "3f77eed6-5571-4886-bfbf-b977b13c0856",
   "metadata": {},
   "outputs": [],
   "source": [
    "opp_stats_df = opp_stats_df.rename(columns={'Vs Player': 'PLAYER'})\n",
    "opp_stats_df['PLAYER'] = opp_stats_df.PLAYER.map(name_formatter)\n",
    "\n",
    "# Execute groupby based on player name, and aggregate columns per strategy\n",
    "opp_stats_df = opp_stats_df.groupby('PLAYER', as_index=False).agg({\n",
    "    'OppFGA': 'sum', 'OppFGM': 'sum', 'Opp3PA': 'sum', 'Opp3PM': 'sum', 'OppFTA': 'sum', 'OppTOV': 'sum', 'OppPF': 'sum'\n",
    "})\n",
    "\n",
    "opp_stats_df = opp_stats_df[['PLAYER', 'OppFGA', 'OppFGM', 'Opp3PA', 'Opp3PM', 'OppFTA', 'OppTOV', 'OppPF']]"
   ]
  },
  {
   "cell_type": "code",
   "execution_count": 30,
   "id": "f3280d8b-d6f8-4db0-9eeb-143212e7cd9e",
   "metadata": {},
   "outputs": [],
   "source": [
    "def_stats_df = def_stats_df.rename(columns={'Player': 'PLAYER', 'OPP\\xa0PTSFB': 'OppPTSFB', 'OPP\\xa0PTSPAINT': 'OppPTSPAINT'})\n",
    "def_stats_df = def_stats_df[['PLAYER', 'OppPTSFB', 'OppPTSPAINT', 'DEFWS']]"
   ]
  },
  {
   "cell_type": "code",
   "execution_count": 31,
   "id": "cf0b3452-de04-420a-b7f7-77aca0f3391f",
   "metadata": {},
   "outputs": [],
   "source": [
    "eff_d_stats_df = eff_d_stats_df[['PLAYER', 'opp_RA_FGA', 'opp_RA_FGM', 'opp_PT_nonRA_FGA', 'opp_PT_nonRA_FGM', 'opp_MR_FGA', 'opp_MR_FGM', 'opp_LC_FGA', 'opp_LC_FGM', 'opp_RC_FGA', 'opp_RC_FGM', 'opp_Corner3_FGA', 'opp_Corner3_FGM', 'opp_ATB3_FGA', 'opp_ATB3_FGM']]"
   ]
  },
  {
   "cell_type": "code",
   "execution_count": 32,
   "id": "9d0b06af-091e-41aa-8909-89a11d659fee",
   "metadata": {},
   "outputs": [],
   "source": [
    "hustle_stats_df = hustle_stats_df.rename(columns={'Player': 'PLAYER', 'Loose\\xa0BallsRecovered': 'Loose BallsRecovered', 'Contested2PT\\xa0Shots': 'Contested2PT Shots', 'Contested3PT\\xa0Shots': 'Contested3PT Shots', 'Team': 'TEAM'})\n",
    "hustle_stats_df = hustle_stats_df[['PLAYER', 'ScreenAssists', 'Deflections', 'Loose BallsRecovered', 'ChargesDrawn', 'Contested2PT Shots', 'Contested3PT Shots']]"
   ]
  },
  {
   "cell_type": "code",
   "execution_count": 33,
   "id": "6f9e6e10-1b08-42ec-ab5b-20ebff921e33",
   "metadata": {},
   "outputs": [],
   "source": [
    "iso_d_stats_df = play_style_cleaner(iso_d_stats_df, 'opp_iso_')\n",
    "\n",
    "pnrbh_d_stats_df = play_style_cleaner(pnrbh_d_stats_df, 'opp_pnrbh_')\n",
    "\n",
    "pnrrm_d_stats_df = play_style_cleaner(pnrrm_d_stats_df, 'opp_pnrrm_')\n",
    "\n",
    "postup_d_stats_df = play_style_cleaner(postup_d_stats_df, 'opp_postup_')\n",
    "\n",
    "spotup_d_stats_df = play_style_cleaner(spotup_d_stats_df, 'opp_spotup_')\n",
    "\n",
    "handoff_d_stats_df = play_style_cleaner(handoff_d_stats_df, 'opp_handoff_')\n",
    "\n",
    "offscrn_d_stats_df = play_style_cleaner(offscrn_d_stats_df, 'opp_offscrn_')"
   ]
  },
  {
   "cell_type": "markdown",
   "id": "612a0c59-7543-4cc1-bffd-2b44117ac69d",
   "metadata": {},
   "source": [
    "#### Standardize and condense lineup statistics:"
   ]
  },
  {
   "cell_type": "code",
   "execution_count": 34,
   "id": "54c11cd7-51a4-4a80-9d71-f98a9c50d482",
   "metadata": {},
   "outputs": [],
   "source": [
    "lineup_stats_df = lineup_stats_df  # no initial changes"
   ]
  },
  {
   "cell_type": "markdown",
   "id": "d9d40843-a85b-47aa-bc53-fa8037826d0b",
   "metadata": {},
   "source": [
    "## 1C: Data Compilation\n",
    "\n",
    "**Objective:** Combine statistics for each player and output player & lineup data as CSV files.\n",
    "\n",
    "---"
   ]
  },
  {
   "cell_type": "code",
   "execution_count": 35,
   "id": "f6145af1-b726-4cbc-8395-5ee48e6f3f48",
   "metadata": {},
   "outputs": [],
   "source": [
    "dfs_list = [\n",
    "    player_bio_df, trad_stats_df, adv_stats_df, usg_stats_df,  \n",
    "    eff_o_stats_df, cns_stats_df, pullup_stats_df,   \n",
    "    scoring_stats_df, trsn_o_stats_df, iso_o_stats_df, pnrbh_o_stats_df, pnrrm_o_stats_df, postup_o_stats_df,  \n",
    "    spotup_o_stats_df, handoff_o_stats_df, cuts_o_stats_df, offscrn_o_stats_df, putbk_o_stats_df,\n",
    "    drives_stats_df, pass_stats_df, dr_0_df, dr_1_df, dr_2_df, dr_3_6_df, dr_7plus_df, tch_0_2_df, tch_2_6_df, tch_6plus_df,\n",
    "    touches_stats_df, reb_stats_df, mvmt_stats_df, boxouts_stats_df, \n",
    "    opp_stats_df, def_stats_df, eff_d_stats_df, hustle_stats_df,   \n",
    "    iso_d_stats_df, pnrbh_d_stats_df, pnrrm_d_stats_df, postup_d_stats_df, spotup_d_stats_df, handoff_d_stats_df, offscrn_d_stats_df\n",
    "]"
   ]
  },
  {
   "cell_type": "code",
   "execution_count": 36,
   "id": "6a3661b8-8658-40ff-ab90-ec00f416b5df",
   "metadata": {},
   "outputs": [
    {
     "name": "stdout",
     "output_type": "stream",
     "text": [
      "4\n",
      "34\n"
     ]
    }
   ],
   "source": [
    "for i in range(len(dfs_list)):\n",
    "    dups = len(dfs_list[i][dfs_list[i].PLAYER.duplicated()])\n",
    "    if dups > 0:\n",
    "        print(i)\n",
    "        dfs_list[i] = dfs_list[i].iloc[dups:, :].reset_index(drop=True)  # take care of dups"
   ]
  },
  {
   "cell_type": "markdown",
   "id": "3d819f93-21f3-4062-bbf5-5190d647b07f",
   "metadata": {},
   "source": [
    "Above, the dataframes are verified to ensure no duplicates exist. Some instances of scraping sessions can result in nulled player records at beginning of the df (no scattered dups as this has already been taken care off to prevent). Therefore the buggy top duplicates that can randomly aris are taken care of in the above cell block automatically, without the need for manual checking."
   ]
  },
  {
   "cell_type": "markdown",
   "id": "f33ee9a0-f33d-4057-8355-8eefcedada5e",
   "metadata": {},
   "source": [
    "#### Merge all dataframes to construct a master copy:"
   ]
  },
  {
   "cell_type": "code",
   "execution_count": 37,
   "id": "b5e0797a-b6a0-4318-89bc-424179adfe56",
   "metadata": {},
   "outputs": [],
   "source": [
    "master_df = reduce(lambda df1, df2: pd.merge(df1, df2, how='outer', on='PLAYER'), dfs_list)"
   ]
  },
  {
   "cell_type": "code",
   "execution_count": 38,
   "id": "87885e0c-573b-4d2b-8f26-b622621e2149",
   "metadata": {},
   "outputs": [
    {
     "data": {
      "text/html": [
       "<div>\n",
       "<style scoped>\n",
       "    .dataframe tbody tr th:only-of-type {\n",
       "        vertical-align: middle;\n",
       "    }\n",
       "\n",
       "    .dataframe tbody tr th {\n",
       "        vertical-align: top;\n",
       "    }\n",
       "\n",
       "    .dataframe thead th {\n",
       "        text-align: right;\n",
       "    }\n",
       "</style>\n",
       "<table border=\"1\" class=\"dataframe\">\n",
       "  <thead>\n",
       "    <tr style=\"text-align: right;\">\n",
       "      <th></th>\n",
       "      <th>PLAYER</th>\n",
       "      <th>TEAM</th>\n",
       "      <th>POS</th>\n",
       "      <th>H</th>\n",
       "      <th>GP</th>\n",
       "      <th>MIN</th>\n",
       "      <th>PTS</th>\n",
       "      <th>FGM</th>\n",
       "      <th>FGA</th>\n",
       "      <th>FG%</th>\n",
       "      <th>...</th>\n",
       "      <th>opp_pnrrm_FGM</th>\n",
       "      <th>opp_pnrrm_FGA</th>\n",
       "      <th>opp_postup_FGM</th>\n",
       "      <th>opp_postup_FGA</th>\n",
       "      <th>opp_spotup_FGM</th>\n",
       "      <th>opp_spotup_FGA</th>\n",
       "      <th>opp_handoff_FGM</th>\n",
       "      <th>opp_handoff_FGA</th>\n",
       "      <th>opp_offscrn_FGM</th>\n",
       "      <th>opp_offscrn_FGA</th>\n",
       "    </tr>\n",
       "  </thead>\n",
       "  <tbody>\n",
       "    <tr>\n",
       "      <th>0</th>\n",
       "      <td>Precious Achiuwa</td>\n",
       "      <td>TOR</td>\n",
       "      <td>F</td>\n",
       "      <td>6-8</td>\n",
       "      <td>71</td>\n",
       "      <td>1686</td>\n",
       "      <td>647</td>\n",
       "      <td>259</td>\n",
       "      <td>585</td>\n",
       "      <td>44.3</td>\n",
       "      <td>...</td>\n",
       "      <td>13.0</td>\n",
       "      <td>32.0</td>\n",
       "      <td>12.0</td>\n",
       "      <td>29.0</td>\n",
       "      <td>59.0</td>\n",
       "      <td>159.0</td>\n",
       "      <td>NaN</td>\n",
       "      <td>NaN</td>\n",
       "      <td>4.0</td>\n",
       "      <td>10.0</td>\n",
       "    </tr>\n",
       "    <tr>\n",
       "      <th>1</th>\n",
       "      <td>Steven Adams</td>\n",
       "      <td>MEM</td>\n",
       "      <td>C</td>\n",
       "      <td>6-11</td>\n",
       "      <td>74</td>\n",
       "      <td>1953</td>\n",
       "      <td>522</td>\n",
       "      <td>207</td>\n",
       "      <td>380</td>\n",
       "      <td>54.5</td>\n",
       "      <td>...</td>\n",
       "      <td>31.0</td>\n",
       "      <td>75.0</td>\n",
       "      <td>16.0</td>\n",
       "      <td>28.0</td>\n",
       "      <td>54.0</td>\n",
       "      <td>159.0</td>\n",
       "      <td>3.0</td>\n",
       "      <td>11.0</td>\n",
       "      <td>7.0</td>\n",
       "      <td>13.0</td>\n",
       "    </tr>\n",
       "    <tr>\n",
       "      <th>2</th>\n",
       "      <td>Bam Adebayo</td>\n",
       "      <td>MIA</td>\n",
       "      <td>C-F</td>\n",
       "      <td>6-9</td>\n",
       "      <td>55</td>\n",
       "      <td>1792</td>\n",
       "      <td>1044</td>\n",
       "      <td>398</td>\n",
       "      <td>715</td>\n",
       "      <td>55.7</td>\n",
       "      <td>...</td>\n",
       "      <td>7.0</td>\n",
       "      <td>19.0</td>\n",
       "      <td>15.0</td>\n",
       "      <td>31.0</td>\n",
       "      <td>56.0</td>\n",
       "      <td>137.0</td>\n",
       "      <td>4.0</td>\n",
       "      <td>8.0</td>\n",
       "      <td>3.0</td>\n",
       "      <td>13.0</td>\n",
       "    </tr>\n",
       "    <tr>\n",
       "      <th>3</th>\n",
       "      <td>Santi Aldama</td>\n",
       "      <td>MEM</td>\n",
       "      <td>F-C</td>\n",
       "      <td>6-11</td>\n",
       "      <td>30</td>\n",
       "      <td>319</td>\n",
       "      <td>104</td>\n",
       "      <td>43</td>\n",
       "      <td>109</td>\n",
       "      <td>39.4</td>\n",
       "      <td>...</td>\n",
       "      <td>NaN</td>\n",
       "      <td>NaN</td>\n",
       "      <td>NaN</td>\n",
       "      <td>NaN</td>\n",
       "      <td>7.0</td>\n",
       "      <td>19.0</td>\n",
       "      <td>NaN</td>\n",
       "      <td>NaN</td>\n",
       "      <td>NaN</td>\n",
       "      <td>NaN</td>\n",
       "    </tr>\n",
       "    <tr>\n",
       "      <th>4</th>\n",
       "      <td>LaMarcus Aldridge</td>\n",
       "      <td>BKN</td>\n",
       "      <td>C-F</td>\n",
       "      <td>6-11</td>\n",
       "      <td>47</td>\n",
       "      <td>1050</td>\n",
       "      <td>607</td>\n",
       "      <td>252</td>\n",
       "      <td>458</td>\n",
       "      <td>55.0</td>\n",
       "      <td>...</td>\n",
       "      <td>8.0</td>\n",
       "      <td>26.0</td>\n",
       "      <td>10.0</td>\n",
       "      <td>24.0</td>\n",
       "      <td>33.0</td>\n",
       "      <td>81.0</td>\n",
       "      <td>NaN</td>\n",
       "      <td>NaN</td>\n",
       "      <td>NaN</td>\n",
       "      <td>NaN</td>\n",
       "    </tr>\n",
       "    <tr>\n",
       "      <th>...</th>\n",
       "      <td>...</td>\n",
       "      <td>...</td>\n",
       "      <td>...</td>\n",
       "      <td>...</td>\n",
       "      <td>...</td>\n",
       "      <td>...</td>\n",
       "      <td>...</td>\n",
       "      <td>...</td>\n",
       "      <td>...</td>\n",
       "      <td>...</td>\n",
       "      <td>...</td>\n",
       "      <td>...</td>\n",
       "      <td>...</td>\n",
       "      <td>...</td>\n",
       "      <td>...</td>\n",
       "      <td>...</td>\n",
       "      <td>...</td>\n",
       "      <td>...</td>\n",
       "      <td>...</td>\n",
       "      <td>...</td>\n",
       "      <td>...</td>\n",
       "    </tr>\n",
       "    <tr>\n",
       "      <th>597</th>\n",
       "      <td>Thaddeus Young</td>\n",
       "      <td>TOR</td>\n",
       "      <td>F</td>\n",
       "      <td>6-8</td>\n",
       "      <td>50</td>\n",
       "      <td>801</td>\n",
       "      <td>303</td>\n",
       "      <td>133</td>\n",
       "      <td>261</td>\n",
       "      <td>51.0</td>\n",
       "      <td>...</td>\n",
       "      <td>NaN</td>\n",
       "      <td>NaN</td>\n",
       "      <td>NaN</td>\n",
       "      <td>NaN</td>\n",
       "      <td>NaN</td>\n",
       "      <td>NaN</td>\n",
       "      <td>NaN</td>\n",
       "      <td>NaN</td>\n",
       "      <td>NaN</td>\n",
       "      <td>NaN</td>\n",
       "    </tr>\n",
       "    <tr>\n",
       "      <th>598</th>\n",
       "      <td>Trae Young</td>\n",
       "      <td>ATL</td>\n",
       "      <td>G</td>\n",
       "      <td>6-1</td>\n",
       "      <td>74</td>\n",
       "      <td>2582</td>\n",
       "      <td>2092</td>\n",
       "      <td>689</td>\n",
       "      <td>1501</td>\n",
       "      <td>45.9</td>\n",
       "      <td>...</td>\n",
       "      <td>11.0</td>\n",
       "      <td>30.0</td>\n",
       "      <td>17.0</td>\n",
       "      <td>35.0</td>\n",
       "      <td>82.0</td>\n",
       "      <td>203.0</td>\n",
       "      <td>29.0</td>\n",
       "      <td>64.0</td>\n",
       "      <td>23.0</td>\n",
       "      <td>47.0</td>\n",
       "    </tr>\n",
       "    <tr>\n",
       "      <th>599</th>\n",
       "      <td>Omer Yurtseven</td>\n",
       "      <td>MIA</td>\n",
       "      <td>C</td>\n",
       "      <td>6-11</td>\n",
       "      <td>55</td>\n",
       "      <td>671</td>\n",
       "      <td>292</td>\n",
       "      <td>127</td>\n",
       "      <td>233</td>\n",
       "      <td>54.5</td>\n",
       "      <td>...</td>\n",
       "      <td>7.0</td>\n",
       "      <td>18.0</td>\n",
       "      <td>8.0</td>\n",
       "      <td>17.0</td>\n",
       "      <td>24.0</td>\n",
       "      <td>51.0</td>\n",
       "      <td>NaN</td>\n",
       "      <td>NaN</td>\n",
       "      <td>NaN</td>\n",
       "      <td>NaN</td>\n",
       "    </tr>\n",
       "    <tr>\n",
       "      <th>600</th>\n",
       "      <td>Cody Zeller</td>\n",
       "      <td>NaN</td>\n",
       "      <td>F-C</td>\n",
       "      <td>6-11</td>\n",
       "      <td>27</td>\n",
       "      <td>355</td>\n",
       "      <td>140</td>\n",
       "      <td>51</td>\n",
       "      <td>90</td>\n",
       "      <td>56.7</td>\n",
       "      <td>...</td>\n",
       "      <td>NaN</td>\n",
       "      <td>NaN</td>\n",
       "      <td>4.0</td>\n",
       "      <td>9.0</td>\n",
       "      <td>9.0</td>\n",
       "      <td>25.0</td>\n",
       "      <td>NaN</td>\n",
       "      <td>NaN</td>\n",
       "      <td>NaN</td>\n",
       "      <td>NaN</td>\n",
       "    </tr>\n",
       "    <tr>\n",
       "      <th>601</th>\n",
       "      <td>Ivica Zubac</td>\n",
       "      <td>LAC</td>\n",
       "      <td>C</td>\n",
       "      <td>7-0</td>\n",
       "      <td>74</td>\n",
       "      <td>1804</td>\n",
       "      <td>758</td>\n",
       "      <td>297</td>\n",
       "      <td>474</td>\n",
       "      <td>62.7</td>\n",
       "      <td>...</td>\n",
       "      <td>30.0</td>\n",
       "      <td>49.0</td>\n",
       "      <td>8.0</td>\n",
       "      <td>32.0</td>\n",
       "      <td>85.0</td>\n",
       "      <td>182.0</td>\n",
       "      <td>NaN</td>\n",
       "      <td>NaN</td>\n",
       "      <td>5.0</td>\n",
       "      <td>7.0</td>\n",
       "    </tr>\n",
       "  </tbody>\n",
       "</table>\n",
       "<p>602 rows × 190 columns</p>\n",
       "</div>"
      ],
      "text/plain": [
       "                PLAYER TEAM  POS     H  GP   MIN   PTS  FGM   FGA   FG%  ...  \\\n",
       "0     Precious Achiuwa  TOR    F   6-8  71  1686   647  259   585  44.3  ...   \n",
       "1         Steven Adams  MEM    C  6-11  74  1953   522  207   380  54.5  ...   \n",
       "2          Bam Adebayo  MIA  C-F   6-9  55  1792  1044  398   715  55.7  ...   \n",
       "3         Santi Aldama  MEM  F-C  6-11  30   319   104   43   109  39.4  ...   \n",
       "4    LaMarcus Aldridge  BKN  C-F  6-11  47  1050   607  252   458  55.0  ...   \n",
       "..                 ...  ...  ...   ...  ..   ...   ...  ...   ...   ...  ...   \n",
       "597     Thaddeus Young  TOR    F   6-8  50   801   303  133   261  51.0  ...   \n",
       "598         Trae Young  ATL    G   6-1  74  2582  2092  689  1501  45.9  ...   \n",
       "599     Omer Yurtseven  MIA    C  6-11  55   671   292  127   233  54.5  ...   \n",
       "600        Cody Zeller  NaN  F-C  6-11  27   355   140   51    90  56.7  ...   \n",
       "601        Ivica Zubac  LAC    C   7-0  74  1804   758  297   474  62.7  ...   \n",
       "\n",
       "     opp_pnrrm_FGM  opp_pnrrm_FGA  opp_postup_FGM  opp_postup_FGA  \\\n",
       "0             13.0           32.0            12.0            29.0   \n",
       "1             31.0           75.0            16.0            28.0   \n",
       "2              7.0           19.0            15.0            31.0   \n",
       "3              NaN            NaN             NaN             NaN   \n",
       "4              8.0           26.0            10.0            24.0   \n",
       "..             ...            ...             ...             ...   \n",
       "597            NaN            NaN             NaN             NaN   \n",
       "598           11.0           30.0            17.0            35.0   \n",
       "599            7.0           18.0             8.0            17.0   \n",
       "600            NaN            NaN             4.0             9.0   \n",
       "601           30.0           49.0             8.0            32.0   \n",
       "\n",
       "     opp_spotup_FGM  opp_spotup_FGA  opp_handoff_FGM  opp_handoff_FGA  \\\n",
       "0              59.0           159.0              NaN              NaN   \n",
       "1              54.0           159.0              3.0             11.0   \n",
       "2              56.0           137.0              4.0              8.0   \n",
       "3               7.0            19.0              NaN              NaN   \n",
       "4              33.0            81.0              NaN              NaN   \n",
       "..              ...             ...              ...              ...   \n",
       "597             NaN             NaN              NaN              NaN   \n",
       "598            82.0           203.0             29.0             64.0   \n",
       "599            24.0            51.0              NaN              NaN   \n",
       "600             9.0            25.0              NaN              NaN   \n",
       "601            85.0           182.0              NaN              NaN   \n",
       "\n",
       "     opp_offscrn_FGM  opp_offscrn_FGA  \n",
       "0                4.0             10.0  \n",
       "1                7.0             13.0  \n",
       "2                3.0             13.0  \n",
       "3                NaN              NaN  \n",
       "4                NaN              NaN  \n",
       "..               ...              ...  \n",
       "597              NaN              NaN  \n",
       "598             23.0             47.0  \n",
       "599              NaN              NaN  \n",
       "600              NaN              NaN  \n",
       "601              5.0              7.0  \n",
       "\n",
       "[602 rows x 190 columns]"
      ]
     },
     "execution_count": 38,
     "metadata": {},
     "output_type": "execute_result"
    }
   ],
   "source": [
    "master_df"
   ]
  },
  {
   "cell_type": "markdown",
   "id": "81d8c044-1761-4323-a3b4-13a7fdbc1d50",
   "metadata": {},
   "source": [
    "#### Rearrange columns for ease of use in next stages:"
   ]
  },
  {
   "cell_type": "code",
   "execution_count": 41,
   "id": "ed76d312-4fdb-44b4-8c38-f030db222e2e",
   "metadata": {},
   "outputs": [],
   "source": [
    "master_df = master_df[[\n",
    "    \n",
    "    'PLAYER', 'H', 'POS', 'TEAM', 'GP', 'MIN',  # Bio / Util info\n",
    "    \n",
    "    'POSS', 'USG%', '%FGA', '%3PA', '%FTA', '%REB', '%AST', '%BLKA', '%PFD', '%PTS',  # Usage stats\n",
    "    \n",
    "    'AST', 'PassesMade', 'PassesReceived', 'SecondaryAST', 'PotentialAST', 'ScreenAssists', 'AST PTSCreated', 'ASTAdj', 'AST ToPass% Adj', 'TOV',  # Passing info\n",
    "    \n",
    "    'PTS', 'FGA', 'FGM', 'FG%',  # Base scoring stats\n",
    "    \n",
    "    '%FGA2PT', '%PTS2PT', '%PTSPITP', '%PTS2PT MR',  # 2-Pt scoring vs. player's overall scoring\n",
    "    'RA_FGA', 'RA_FGM', 'PT_nonRA_FGA', 'PT_nonRA_FGM', 'MR_FGA', 'MR_FGM',  # 2-Pt scoring zones\n",
    "    'cns_2FGA', 'cns_2FGM', 'pullup_2FGA', 'pullup_2FGM',  # 2-Pt scoring styles\n",
    "    \n",
    "    '3PA', '3PM', '3P%',  # Base 3-Pt scoring stats\n",
    "    '%FGA3PT', '%PTS3PT',  # 3-Pt scoring vs. player's overall scoring\n",
    "    'Corner3_FGA', 'Corner3_FGM', 'ATB3_FGA', 'ATB3_FGM',   # 3-Pt scoring zones\n",
    "    'cns_3PA', 'cns_3PM', 'pullup_3PA', 'pullup_3PM',  # 3-Pt scoring styles\n",
    "    \n",
    "    'FTA', 'FTM', 'FT%',  # Base FT stats\n",
    "    '%PTSFT',  # FT scoring vs. player's overall scoring\n",
    "        \n",
    "    '2FGM%AST', '2FGM%UAST', '3FGM%AST', '3FGM%UAST',  # Scoring dependency\n",
    "    \n",
    "    'dr_0_2FGA', 'dr_0_2FGM', 'dr_0_3PA', 'dr_0_3PM', 'dr_1_2FGA', 'dr_1_2FGM', 'dr_1_3PA', 'dr_1_3PM', 'dr_2_2FGA', 'dr_2_2FGM',  # Dribbles vs. scoring/efficiency\n",
    "    'dr_2_3PA', 'dr_2_3PM', 'dr_3_6_2FGA', 'dr_3_6_2FGM', 'dr_3_6_3PA', 'dr_3_6_3PM', 'dr_7plus_2FGA', 'dr_7plus_2FGM', 'dr_7plus_3PA', 'dr_7plus_3PM',\n",
    "    \n",
    "    'tch_0_2_2FGA', 'tch_0_2_2FGM', 'tch_0_2_3PA', 'tch_0_2_3PM', 'tch_2_6_2FGA', 'tch_2_6_2FGM',  # Touch-time vs. scoring/efficiency\n",
    "    'tch_2_6_3PA', 'tch_2_6_3PM', 'tch_6plus_2FGA', 'tch_6plus_2FGM', 'tch_6plus_3PA', 'tch_6plus_3PM',\n",
    "    \n",
    "    'trsn_FGM', 'trsn_FGA', 'iso_FGM', 'iso_FGA', 'pnrbh_FGM', 'pnrbh_FGA', 'pnrrm_FGM', 'pnrrm_FGA', 'postup_FGM', 'postup_FGA',   # Offensive play-style\n",
    "    'spotup_FGM', 'spotup_FGA', 'handoff_FGM', 'handoff_FGA', 'cuts_FGM', 'cuts_FGA', 'offscrn_FGM', 'offscrn_FGA', 'putbk_FGM', 'putbk_FGA',\n",
    "    'DRIVES', 'drives_FGA', 'drives_FGM', 'drives_PTS', 'drives_PASS%', 'drives_AST%',\n",
    "    \n",
    "    'TOUCHES', 'Avg Sec PerTouch', 'Avg Drib PerTouch', 'PTS PerTouch', 'ElbowTouches', 'PostUps', 'PaintTouches', 'PTS PerElbow Touch', 'PTS PerPost Touch', 'PTS PerPaint Touch',  # Player activity\n",
    "    \n",
    "    'Dist. Miles Off', 'Dist. Miles Def',  # Player movement\n",
    "    \n",
    "    'REB', 'ContestedREB%', 'AVG REBDistance', 'Box Outs',  # Rebound-related stats\n",
    "    \n",
    "    'DEFWS',  # Adv defensive metric\n",
    "    'STL', 'BLK', 'Deflections', 'Loose BallsRecovered', 'ChargesDrawn', 'Contested2PT Shots', 'Contested3PT Shots', 'OppTOV', 'OppPF', 'OppFTA',  # Defensive activity\n",
    "    \n",
    "    'OppFGA', 'OppFGM', 'OppPTSFB', 'OppPTSPAINT', 'opp_RA_FGA', 'opp_RA_FGM', 'opp_PT_nonRA_FGA', 'opp_PT_nonRA_FGM', 'opp_MR_FGA', 'opp_MR_FGM',  # Opponent 2-Pt efficiency\n",
    "    'Opp3PA', 'Opp3PM', 'opp_Corner3_FGA', 'opp_Corner3_FGM', 'opp_ATB3_FGA', 'opp_ATB3_FGM',  # Opponent 3-Pt efficiency\n",
    "    \n",
    "    'opp_iso_FGM', 'opp_iso_FGA', 'opp_pnrbh_FGM', 'opp_pnrbh_FGA', 'opp_pnrrm_FGM', 'opp_pnrrm_FGA', 'opp_postup_FGM', 'opp_postup_FGA',  # Opponent play-style vs. efficiency\n",
    "    'opp_spotup_FGM', 'opp_spotup_FGA', 'opp_handoff_FGM', 'opp_handoff_FGA', 'opp_offscrn_FGM', 'opp_offscrn_FGA'\n",
    "    \n",
    "]]"
   ]
  },
  {
   "cell_type": "markdown",
   "id": "9cf3ad73-6972-4480-8eaa-e927ab54ed50",
   "metadata": {},
   "source": [
    "#### Output compiled data into CSVs:"
   ]
  },
  {
   "cell_type": "code",
   "execution_count": 42,
   "id": "55c9fe91-9702-4466-b32f-57bf08b19786",
   "metadata": {},
   "outputs": [],
   "source": [
    "master_df.to_csv('./raw_comprehensive_stats.csv', sep=',', index=False)"
   ]
  },
  {
   "cell_type": "code",
   "execution_count": 43,
   "id": "9f6951ed-a452-47b2-906b-5b7cb3ad1163",
   "metadata": {},
   "outputs": [],
   "source": [
    "lineup_stats_df.to_csv('./raw_lineup_stats.csv', sep=',', index=False)"
   ]
  }
 ],
 "metadata": {
  "kernelspec": {
   "display_name": "Python 3 (ipykernel)",
   "language": "python",
   "name": "python3"
  },
  "language_info": {
   "codemirror_mode": {
    "name": "ipython",
    "version": 3
   },
   "file_extension": ".py",
   "mimetype": "text/x-python",
   "name": "python",
   "nbconvert_exporter": "python",
   "pygments_lexer": "ipython3",
   "version": "3.9.7"
  }
 },
 "nbformat": 4,
 "nbformat_minor": 5
}
