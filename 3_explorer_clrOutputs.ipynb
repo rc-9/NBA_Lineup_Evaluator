{
 "cells": [
  {
   "cell_type": "markdown",
   "id": "71b2a8c5-040d-49da-ba62-d4153d737327",
   "metadata": {},
   "source": [
    "# PART 3: Exploratory Data Analysis\n",
    "\n",
    "This notebook will employ exploratory mining techniques to study the NBA players, discern statistical patterns and better inform the modeling stage of the project pipeline.\n",
    "\n",
    "(NOTE: Due to the use of widgets, this notebook won't save all the visuals executed. Please instead refer to either 3_explorer.html / saved profiling copies, or rerun this script.)\n",
    "\n",
    "---"
   ]
  },
  {
   "cell_type": "code",
   "execution_count": null,
   "id": "29f21826-787b-4f8b-bc93-e6b6999df4b8",
   "metadata": {},
   "outputs": [],
   "source": [
    "# Data Source / API\n",
    "from nba_api.stats.endpoints import shotchartdetail\n",
    "from nba_api.stats.static import players as p, teams as t\n",
    "\n",
    "# Data Management & Manipulation\n",
    "import numpy as np\n",
    "import pandas as pd\n",
    "from prettytable import PrettyTable\n",
    "from scipy.stats import norm, gaussian_kde, percentileofscore\n",
    "\n",
    "# Data Visualization\n",
    "import matplotlib.pyplot as plt\n",
    "import plotly.express as px\n",
    "import plotly.graph_objects as go\n",
    "import seaborn as sns\n",
    "from autoviz.AutoViz_Class import AutoViz_Class\n",
    "from matplotlib import cm, patches\n",
    "from matplotlib.patches import Circle, Rectangle, Arc, ConnectionPatch, Polygon, PathPatch\n",
    "from matplotlib.collections import PatchCollection\n",
    "from matplotlib.colors import LinearSegmentedColormap, ListedColormap, BoundaryNorm\n",
    "from matplotlib.path import Path\n",
    "from pandas_profiling import ProfileReport, profile_report\n",
    "from plotly.subplots import make_subplots\n",
    "from plotnine import ggplot, aes, geom_jitter, scale_color_manual, theme, labs, theme_bw\n",
    "\n",
    "# Utils\n",
    "import ipywidgets as widgets\n",
    "from ipywidgets import interact, interact_manual\n",
    "from IPython.display import display, HTML\n",
    "from time import sleep\n",
    "import random\n",
    "import warnings\n",
    "warnings.filterwarnings(\"ignore\")\n",
    "%matplotlib inline\n",
    "sns.set_style('white')\n",
    "sns.set_color_codes()\n",
    "plt.style.use('default')  # sub 'dark_background'"
   ]
  },
  {
   "cell_type": "markdown",
   "id": "33791863-63d0-4dbe-931f-c99849cecba0",
   "metadata": {},
   "source": [
    "## 3A: Setup\n",
    "\n",
    "**Objective:** Load the processed player statistics into local dataframes.\n",
    "\n",
    "---"
   ]
  },
  {
   "cell_type": "code",
   "execution_count": null,
   "id": "57434f9d-1223-43a8-b1e8-8c74820725fc",
   "metadata": {},
   "outputs": [],
   "source": [
    "player_df = pd.read_csv('./cln_comprehensive_stats.csv', sep=',', header=0, index_col=None)\n",
    "player_df"
   ]
  },
  {
   "cell_type": "markdown",
   "id": "52370b4c-ef2a-416b-8ef5-786e320f7324",
   "metadata": {},
   "source": [
    "## 3B: Auto-Profile Generation\n",
    "\n",
    "**Objective:** This section implements automatic profiling modules to generate exploratory reports to study the player data. Due the large dimensionality of the dataset, attributes were broken down into offensive and defensive stats for this exploration phase. \n",
    "\n",
    "----"
   ]
  },
  {
   "cell_type": "markdown",
   "id": "20e47b65-1d94-4128-9991-96d60093c84e",
   "metadata": {},
   "source": [
    "#### Pandas Profiling -- Player Info & Usage:"
   ]
  },
  {
   "cell_type": "code",
   "execution_count": null,
   "id": "fc429967-7d00-4df0-92b0-2335acd5e47d",
   "metadata": {
    "scrolled": true,
    "tags": []
   },
   "outputs": [],
   "source": [
    "# Define attributes to profile\n",
    "usg_cols = [\n",
    "    'PLAYER', 'H', 'POS', 'TEAM', 'GP', 'MIN', 'POSS',  # Utils\n",
    "    '%FGA', '%3PA', '%FTA', '%REB', '%AST', '%BLKA', '%PFD', '%PTS'  # Usage stats\n",
    "]\n",
    "\n",
    "usage_profile = player_df[usg_cols].profile_report(\n",
    "    title = 'NBA Player Bio & Usage Profile',\n",
    "    explorative = True,\n",
    "    plot = {'histogram': {'bins': 12}, 'correlation': {'cmap': 'RdBu_r'}},\n",
    "    missing_diagrams = {'bar': False, 'matrix': False, 'heatmap': False},  # already taken care of\n",
    "    progress_bar = False,\n",
    "    pool_size = 0,\n",
    "    samples=None\n",
    ")\n",
    "\n",
    "# usage_profile.to_file('pd_profile_plyr_usage.html')  # report saved as html file in project directory for easier viewing\n",
    "usage_profile.to_notebook_iframe()"
   ]
  },
  {
   "cell_type": "markdown",
   "id": "d1c0d790-48ec-49b9-87d9-3e0b97557218",
   "metadata": {},
   "source": [
    "To circumvent loading-issues from pandas profiling report generated from high-dimensional datasets, the attributes were broken into three primary categories: basic player info/usage, offense, defense. In this section, an exploratory report was generated for the player bio info and usage related data. The report was also saved as an HTML copy to the local directory for easier viewing. Some notable observations from the generated report are described below.\n",
    "\n",
    "From the distribution plots, the following observations can be made:\n",
    "\n",
    "- Categorical attributes:\n",
    "    - `PLAYER` name essentially serves as indexing variable for the study as there are no duplicates and each record consists of an individual player\n",
    "    - `POS` and `TEAM` are the only other categorical variables\n",
    "        - Team info is uniformly distributed as an equal number of players were retrieved in the initial pre-processing stage, based on minutes. Therefore, apart from initial explorations to find any team-related patterns, this attribute won't be useful for the modeling stage.\n",
    "        - Position info is captured into 5 bins: 3 single positions (G, F, C), and 2 dual positions (G-F, F-C). \n",
    "        - There were both surprising and expected elements to the position data. Considering that 'G' and 'F' each capture two positions ('PG'/'SG' and 'SF'/'PF' respectively) unlike 'C', it would be expected that the 'C' position would have the least amount of occurences int he dataset. However, it was surprising to see how low that proportion actually is. This can be attested to the fact that the modern NBA relies more on guards and forwards than the traditional big man. On the other side of the spectrum, most of the players within the dataset (and therefore, the players with most playing time) are guards. This has several implications for the modeling stage as clustering will naturally more focused on parsing the guards--this will be an important aspect to watch out for in this stage of the project pipeline.\n",
    "<br><br>\n",
    "- Numeric attributes:\n",
    "    - Height information (`H`) shows an interesting distribution. Apart from a few exceptions, most height bins have a fairly similar amount of players. The biggest outlier is at 77 inches and the data shows that 7-footers are rare among the players that get meaningful minutes.\n",
    "    - Games played information (`GP`) shows a heavy left-skew, with a majority of the players in the dataset playing a significant portion of the season. Interestingly, `MIN` doesn't follow the same distribution as expected, indicating that the filtered players with low number of games in the dataset, still played a fairly significant amount of cumulative minutes. Therefore, the low-sample size for some players resulted from sudden stoppage of play such as injuries, rather than other reasons. Therefore, it reaffirms that the filtered list of players are the ideal set of players needed to conduct such a study, as we want to learn patterns based on players who have or would have gotten a significant amount of playing time. `POSS` follows a nearly identical distribution to `MIN` to further confirm this. Although these features were left for the pre-processing steps, they will be removed for the modeling stages.\n",
    "    - The remaining attributes all convey usage-related information by computing the proportion of a player's contribution in a particular statistic, in relation to the team's total. For example, `%FGA` is the percentage of a team's Field-Goal Attempts that belong to the `PLAYER` of that record. Apart from `%FGA` and `3PA`, all of these stats show a strong right-skew distribution, indicating that only a small number of players make up the heavy-usage tier. \n",
    "\n",
    "Overall, the distributions are mostly non-normal and this needs to be taken into account during the modeling stages. This is also an important aspect to consider when choosing a metric to evaluate correlations.\n",
    "\n",
    "Next, correlations between the attributes were explored. The `Pearson's r` method finds correlations between continuous numeric variables if certain conditions are met (assumption of normality, linearity, limited outliers). The `Spearman's Rank Correlation Coefficient` and `Kendall's Tau Coefficient` also find correlations for continuous numeric variables, but assumes independence and a monotonic relationship (same direction but not necessarily linear). The latter non-parametric methods are more applicable to this data, but aren't as robust in finding correlations as the former. From the plotted heatmaps, however, the overall trends are consistent throughout:\n",
    "\n",
    "- `H` correlates fairly strongly with a player's rebounding contribution to the team, indicating that height might be redundant for modeling.\n",
    "- As expected based on the distribution analysis above, `POSS` and `MIN` are extremely correlated and have a slightly less collinearity with `GP`. This information won't be included as part of modeling regardless, but this affirms the pre-processing strategy of standardizing attributes to either per-possession or per-minute inter-changeably.\n",
    "- The following pairs are all correlated fairly strongly and are redundant to include in the modeling stages: `%FGA` & `%PTS`, `%FTA` & `%PFD` (personal-fouls drawn), `%FTA` & `%PTS`. This needs to be addressed before modeling.\n",
    "- `H` and `%3PA` show a slight negative correlation, which makes intuitive sense as most of a team's 3-pt contribution occurs from the smaller guards and wings.\n",
    "\n",
    "Next, a similar report will be generated and analyzed for players' offensive statistics."
   ]
  },
  {
   "cell_type": "markdown",
   "id": "8a175fba-859d-4399-a272-b4cdac694d9b",
   "metadata": {},
   "source": [
    "#### Pandas Profiling -- Offensive Stats:"
   ]
  },
  {
   "cell_type": "code",
   "execution_count": null,
   "id": "14ceb05b-c39f-419e-9ae5-6f9956086167",
   "metadata": {
    "scrolled": true,
    "tags": []
   },
   "outputs": [],
   "source": [
    "# Define attributes to profile\n",
    "off_cols = [\n",
    "    'PassesMade/POSS', 'PassesReceived/POSS', 'ScreenAssists/POSS', 'ASTAdj/POSS', 'TOV/POSS',  # Passing stats\n",
    "    'PTS/POSS', '2P%', '3P%', 'FT%', '%PTSFT',  # Base scoring info\n",
    "    '%RA_FGA', '%PT_nonRA_FGA', '%MR_FGA',  # 2-Pt scoring zones\n",
    "    '%cns_2FGA',  '%pullup_2FGA',  # 2-Pt scoring styles\n",
    "    '%Corner3_FGA', '%ATB3_FGA',  # 3-Pt scoring zones\n",
    "    '%cns_3PA', '%pullup_3PA',  # 3-Pt scoring styles\n",
    "    '2FGM%UAST', '3FGM%UAST',  # Scoring dependency\n",
    "    '%dr_1_2_fga', '%dr_3plus_fga', '%tch_0_2_fga', '%tch_2plus_fga',  # Scoring style (dribble & touch-time)\n",
    "    '%trsn_FGA', '%iso_FGA', '%pnrbh_FGA', '%pnrrm_FGA', '%postup_FGA', '%spotup_FGA',  # Offensive-style\n",
    "    '%handoff_FGA', '%cuts_FGA', '%offscrn_FGA', '%putbk_FGA', 'DRIVES/POSS', 'drives_PASS%', \n",
    "    'Avg Sec PerTouch', 'Avg Drib PerTouch', 'ElbowTouches/POSS', 'PostUps/POSS', 'PaintTouches/POSS',  # Offensive activity (touches)\n",
    "    'PTS PerElbow Touch', 'PTS PerPost Touch', 'PTS PerPaint Touch',  # Touches-efficiency\n",
    "    'Dist. Miles Off/POSS'  # Movement on offense\n",
    "]\n",
    "\n",
    "off_profile = player_df[off_cols].profile_report(\n",
    "    title = 'NBA Player-Offense Profile',\n",
    "    explorative = True,\n",
    "    plot = {'histogram': {'bins': 12}, 'correlation': {'cmap': 'RdBu_r'}},\n",
    "    missing_diagrams = {'bar': False, 'matrix': False, 'heatmap': False},  # already taken care of\n",
    "    progress_bar = False,\n",
    "    pool_size = 0,\n",
    "    samples=None,\n",
    "    interactions=None\n",
    ")\n",
    "\n",
    "# off_profile.to_file('pd_profile_plyr_off.html')  # report saved as html file in project directory for easier viewing\n",
    "off_profile.to_notebook_iframe()"
   ]
  },
  {
   "cell_type": "markdown",
   "id": "ba2c377a-9833-4a09-b9e7-1587bb375674",
   "metadata": {},
   "source": [
    "To circumvent loading-issues from pandas profiling report generated from high-dimensional datasets, the attributes were broken into three primary categories: basic player info/usage, offense, defense. In this section, an exploratory report was generated for the player offensive-related statistics. The report was also saved as an HTML copy to the local directory for easier viewing. Some notable observations from the generated report are described below.\n",
    "\n",
    "This segment consists of only numeric attributes. The distribution patterns can be organized as below:\n",
    "- LEFT-SKEW: `3P%`, `FT%`, `PTS PerPaint Touch`\n",
    "- RIGHT-SKEW: `PassesReceived/POSS`, `ScreenAssists/POSS` (heavy), `ASTAdj/POSS`, `TOV/POSS`, `PTS/POSS` (apart from outlier players, mostly normal), `%RA_FGA`, `%MR_FGA`, `%cns_2FGA` (heavy), `%pullup_2FGA`, `%Corner3_FGA`, `%cns_3PA`, `%pullup_3PA`, `3FGM%UAST`, `%dr_3plus_fga`, `%iso_FGA` (heavy), `%pnrbh_FGA` (heavy), `%pnrrm_FGA` (heavy), `%postup_FGA` (heavy), `%handoff_FGA`, `%cuts_FGA` (heavy), `%offscrn_FGA` (heavy), `%putbk_FGA` (heavy), `DRIVES/POSS`, `Avg Sec PerTouch`, `Avg Drib PerTouch`, `ElbowTouches/POSS` (heavy), `PostUps/POSS` (heavy), `PaintTouches/POSS` (heavy), `PTS PerPost Touch`\n",
    "- Weak / No Skew (mostly normal): `PassesMade/POSS`, `2P%`, `%PTSFT`, `%PT_nonRA_FGA`, `%ATB3_FGA`, `2FGM%UAST`, `%dr_1_2_fga`, `%tch_0_2_fga`, `%tch_2plus_fga`, `%trsn_FGA`, `%spotup_FGA`, `drives_PASS%`, `PTS PerElbow Touch`, `Dist. Miles Off/POSS`\n",
    "\n",
    "Noteworthy patterns based on above observations:\n",
    "- Although passes made per possession is normally distributed amongst the high-min players of the dataset, passes-received has a more interesting distribution. Apart from two bins with high densities around 0.4-0.5, the rest of the data looks mostly normal. Due to these exceptions, the overall distribution is skewed to the right. It would be interesting to dig deeper and examine the players and positions that make up the outliers in this distribution.\n",
    "- Screen assists, which are more common for the Bigs, are heavily skewed as expected, since Bigs make up a smaller proportion of the dataset as revealed in the previous profile report\n",
    "- `ASTAdj/POSS` is an attribute that was selected in lieu of the traditional AST metric, as it accounts for secondary assists as well. This attribute has a very similar distribution to `TOV/POSS` which intuitively makes sense, as greater ball-handling responsiblities naturally lead to more turnovers. This may also indicate the former stat redundant which needs to be examined further during correlation assessments.\n",
    "- `2P%` was mostly normally distributed; However, it is hard to gauge the 3-point efficiency as there are large gaps between bins as less players attempt threes\n",
    "- FGA in the Paint were broken into two categories within the dataset: within the \"Restricted Area\" around the basket, and outside of it. Within the restricted area, the FGA were right-skewed, indicating there are limited amount of players who take most of their shots close to the basket, while the non-RA FGA was more normally distributed. The remaining shooting zones for 2-PA is captured in the Mid-Range FGA which was also right-skewed. Therefore, digging into the distribution of the 2-PT shot attempts based on zone reveals that there are players specializing in RA and MR but the non-RA Paint area is more common amongst all.\n",
    "- Similarly, the 3-PT shot broken into \"Corner\" or \"Above the Break\" zones shows that the corner is more specialized to some players based on the right-skew distribution. \n",
    "- Breaking down 2-PT and 3-PT based on style, however, shows a different pattern. For 2-PT shots, there is a right-skew for both catch-and-shoot style and pullup shotmaking. However, for the 3-PT shot, catch-and-shoot threes are normally distributed, and pull-up threes seem to be mostly prevalent amonst a smaller group of players. \n",
    "- The proportion of unassisted FGM that make up a player's shot profile is normally distributed, while its 3-PT counterpart is heavily skewed to the right. This means that players are less likely to create their own 2-pt shot, which also can be linked to the normally distributed catch-and-shoot 3-PT profile pattern.\n",
    "- Proportion of the shot profile that a player attempts in 1-2 dribbles is normally distributed, while more dribbles was right-skewed. This again exposes the pattern of a group of players being responsible for the primary ball handling while others make quicker decision with limited responsibility. This is further confirmed by the `Avg Sec PerTouch` & `Avg Drib PerTouch` attributes which show a similar right-skew.\n",
    "- Breaking down offensive plays based on transition, isolation, pick-and-roll, cuts, putbacks spotup shooting, it is evident that spotups and transition plays are more normally distributed amongst the players while the other two are specialized indicated by a heavy right-skew. \n",
    "- Interestingly, although paint & elbow touches were skewed, the points generated from those touches are fairly normally distributed amonst all players.\n",
    "- Lastly, it was surprising to see that the distance per offensive possession was normally distributed -- as this metric was initially scraped as a way to distinguish players' off-ball skills, this feature might not be beneficial to the modeling objectives\n",
    "\n",
    "Overall, the distributions for offensive metrics are mostly right-skewed or normally distributed, with a few displaying a left-skew. This needs to be taken into account during the modeling stages, as well as any feature selection processing involving attribute correlations.\n",
    "\n",
    "Next, correlations between the attributes were explored. The `Pearson's r` method finds correlations between continuous numeric variables if certain conditions are met (assumption of normality, linearity, limited outliers). The `Spearman's Rank Correlation Coefficient` and `Kendall's Tau Coefficient` also find correlations for continuous numeric variables, but assumes independence and a monotonic relationship (same direction but not necessarily linear). The latter non-parametric methods are more applicable to this data, but aren't as robust in finding correlations as the former. From the plotted heatmaps, however, the overall trends are consistent throughout:\n",
    "\n",
    "- `PassesMade/POSS` & `PassesReceived/POSS` are highly correlated with each other, as well as, a number of other features, most importantly `ASTAdj/POSS`, making them redundant. Interestingly, `PassesReceived/POSS` shares a particularly high correlation with ball-handling features such as touch time or number of dribbles per possession. Intuitively, this makes sense as players who have a larger ball-handling responsiblity will get passes from their teammates more often to dictate the offense. \n",
    "- `ScreenAssists/POSS` & `%pnrrm_FGA` are correlated with each other. Inherently, pick-and-roll actions involve screens set by a roll-man, which sometimes leads to assists when the ball handler makes a shot as a result, explaining this relationship. However, I am hesistant to truncate one of these attributes for modeling before further exploration, as players whose shot profile isn't primarily made up of pick-and-rolls can still be involved in screen actions that might be lost with any hasty feature selection here. Furthermore, as expected, screen assists do not share a clearly defined relationship with other passing / assist metrics. This hypothesis was part of the reason this attribute was procured to be a part of the study.\n",
    "- `ASTAdj/POSS` is strongly correlated with ball-handling features such as touch time and number of dribbles per possession (and the consequent FGA in relation to both). This intuitively makes sense since ball-handlers are the primary playmakers for any NBA lineup. This is another opportunity to consider on dimensionality reduction as some features are redundant when trying to distinguish between players in any unsupervised learning model. Similarly, turnovers also correlate with the same attributes, albeit less strongly. The slight difference can be hypothesized as belonging to the non-ball-handling bigs who also lose the ball a bit more. \n",
    "- `2P%` is positively correlated with paint touches and taking a higher proportion of shots from cutting plays. This makes sense are these are characteristics associated with traditional bigs who have a higher efficiency rate from 2-PT shots. Interestingly, this attribute seems slightly negatively correlated with pullup shots from 3, which are normally associated with modern guards which further back up the reasoning. \n",
    "- `%RA-FGA` shows a strong positive correlation with paint touches, cuts, and putback attempts which normally occur in the restricted area. Therefore, if the latter 3 all show a similar relationship with each other, than just the %RA-FGA would be enough to capture this characteristic and prevent redundant features for modeling. This feature also showed a strong negative correlation with above-the-break 3-PT attempts.\n",
    "- `%MR_FGA` and `%pullup_2FGA` are very strongly correlation can might be redudant for modeling.\n",
    "- `%pullup_2FGA` shows a fairly high correlation with ball-handling attributes such as touch time and dribble stats as well. This can be removed in lieu of the remaining.\n",
    "- `%Corner3_FGA`, `%cns_3PA` & `%spotup_FGA` are all positively correlated with each other, which makes intuitive sense as corner 3s usually result from spot-shooters camped out at the corners, until the team's primary playmakers find them. Therefore, these are redundant features that could be further trimmed as well.\n",
    "- Unassisted-FGA features for both 2-pt and 3-pt shots are strongly correlated with dribble and touch time statistics as anticipated.\n",
    "- Dribble and Touch time are very strongly correlated and multiple breakdown for each are redundant as high dribbles are inversely correlated with low touch-time.\n",
    "- Touches info is correlated with a lot of offensive play-style metrics and need to be closely looked at to avoid redundancy.\n",
    "\n",
    "Next, a similar report will be generated and analyzed for players' defensive statistics."
   ]
  },
  {
   "cell_type": "markdown",
   "id": "89c7098e-dc8e-4cbc-b47a-f7ff79408efb",
   "metadata": {},
   "source": [
    "#### Pandas Profiling -- Defensive Stats:"
   ]
  },
  {
   "cell_type": "code",
   "execution_count": null,
   "id": "ceb0d6e4-5323-4e1c-a03f-ef7d2c810fa7",
   "metadata": {
    "scrolled": true,
    "tags": []
   },
   "outputs": [],
   "source": [
    "# Define attributes to profile\n",
    "def_cols = [\n",
    "    'Dist. Miles Def/POSS',  # Player movement\n",
    "    'REB/MIN', 'ContestedREB%', 'AVG REBDistance', 'Box Outs/MIN',  # Rebound-related stats\n",
    "    'STL/MIN', 'BLK/MIN', 'Deflections/MIN', 'Loose BallsRecovered/MIN', 'ChargesDrawn/MIN',  # Defensive activity\n",
    "    'Contested2PT Shots/MIN', 'Contested3PT Shots/MIN', 'OppTOV/MIN', 'OppPF/MIN', 'OppFTA/MIN', \n",
    "    'Opp2P%', '%opp_RA_FGA', 'opp_RA_FG%', '%opp_PT_nonRA_FGA', 'opp_PT_nonRA_FG%', '%opp_MR_FGA', 'opp_MR_FG%',  # Opponent 2-Pt efficiency\n",
    "    'Opp3P%', '%opp_Corner3_FGA', 'opp_Corner3_FG%', '%opp_ATB3_FGA', 'opp_ATB3_FG%',  # Opponent 3-Pt efficiency\n",
    "    '%opp_iso_FGA', 'opp_iso_FG%', '%opp_pnrbh_FGA', 'opp_pnrbh_FG%', '%opp_pnrrm_FGA', 'opp_pnrrm_FG%', '%opp_postup_FGA', 'opp_postup_FG%',  # Defended styles\n",
    "    '%opp_spotup_FGA', 'opp_spotup_FG%', '%opp_handoff_FGA', 'opp_handoff_FG%', '%opp_offscrn_FGA', 'opp_offscrn_FG%'\n",
    "]\n",
    "\n",
    "def_profile = player_df[def_cols].profile_report(\n",
    "    title = 'NBA Player-Defense Profile',\n",
    "    explorative = True,\n",
    "    plot = {'histogram': {'bins': 12}, 'correlation': {'cmap': 'RdBu_r'}},\n",
    "    missing_diagrams = {'bar': False, 'matrix': False, 'heatmap': False},  # already taken care of\n",
    "    progress_bar = False,\n",
    "    pool_size = 0,\n",
    "    samples=None,\n",
    "    interactions=None\n",
    ")\n",
    "\n",
    "# def_profile.to_file('pd_profile_plyr_def.html')  # report saved as html file in project directory for easier viewing\n",
    "def_profile.to_notebook_iframe()"
   ]
  },
  {
   "cell_type": "markdown",
   "id": "ad1612ee-9c36-488a-a4be-c6e9d94949ca",
   "metadata": {},
   "source": [
    "To circumvent loading-issues from pandas profiling report generated from high-dimensional datasets, the attributes were broken into three primary categories: basic player info/usage, offense, defense. In this section, an exploratory report was generated for the player defensive-related statistics. The report was also saved as an HTML copy to the local directory for easier viewing. Some notable observations from the generated report are described below.\n",
    "\n",
    "This segment consists of only numeric attributes. The distribution patterns can be organized as below:\n",
    "- LEFT-SKEW: `%opp_RA_FGA`\n",
    "- RIGHT-SKEW: `REB/MIN`, `ContestedREB%`, `Box Outs/MIN` (heavy), `STL/MIN`, `BLK/MIN`, `Deflections/MIN`, `ChargesDrawn/MIN` (heavy), `Contested2PT Shots/MIN`, `%opp_PT_nonRA_FGA`, `%opp_iso_FGA`, `%opp_pnrbh_FGA`, `%opp_pnrrm_FGA`, `%opp_handoff_FGA`\n",
    "- Weak / No Skew (mostly normal): `Dist. Miles Def/POSS`, `AVG REBDistance`, `Loose BallsRecovered/MIN`, `Contested3PT Shots/MIN`, `OppTOV/MIN`, `OppPF/MIN`, `OppFTA/MIN`, `Opp2P%`, `opp_RA_FG%`, `opp_PT_nonRA_FG%`, `%opp_MR_FGA`, `opp_MR_FG%`, `Opp3P%`, `%opp_Corner3_FGA`, `opp_Corner3_FG%`, `%opp_ATB3_FGA`, `opp_ATB3_FG%`, `opp_iso_FG%`, `opp_pnrbh_FG%`, `opp_pnrrm_FG%`, `%opp_postup_FGA`, `opp_postup_FG%`, `%opp_spotup_FGA`, `opp_spotup_FG%`, `opp_handoff_FG%`, `%opp_offscrn_FGA`, `opp_offscrn_FG%`  \n",
    "\n",
    "Noteworthy patterns based on above observations:\n",
    "\n",
    "- Distance ran on defense seems to have a very similar distribution to the offensive counterpart, and might be redudant for modeling.\n",
    "- A large number of defense-related metrics seem to show a mostly normal (or atleast no strong skew) distribution. This indicates that lot of these defensive attributes are prevalent among all the players, and not specialized to a few. There are some attributes that are heavyily skewed, however, which can distinguish players a bit more based on defensive role (such as box-outs or charges-drawn. Some skewed attributes, do not convey these specialized role information, and are more based upon playing time (i.e. percentage of FGA contested against different play-types or in various zones on the court). \n",
    "- There are missing records for players in particular defensive metrics, and still needs to be handled. Although it wouldn't matter as much for supervised techniques that use tree-based methods, any unsupervised approach definitely needs these addressed as algorithms tend to be more distance-based which won't be able to be computed with missing values.\n",
    "\n",
    "Overall, the distributions for defensive metrics don't show much skew (mostly normal) with some right-skewed and one with a left-skew. This needs to be taken into account during the modeling stages, as well as any feature selection processing involving attribute correlations.\n",
    "\n",
    "Next, correlations between the attributes were explored. The `Pearson's r` method finds correlations between continuous numeric variables if certain conditions are met (assumption of normality, linearity, limited outliers). The `Spearman's Rank Correlation Coefficient` and `Kendall's Tau Coefficient` also find correlations for continuous numeric variables, but assumes independence and a monotonic relationship (same direction but not necessarily linear). The former parametric method is more prevalent to the normally distributed attributes of the defensive data. There aren't as many interesting correlations among the defensive metrics, but from the plotted heatmaps, the overall trends are consistent throughout:\n",
    "\n",
    "- `REB/MIN` has a strong positive correlation with `ContestedREB%`and a strong negative corerlation with `AVG REBDistance`. These three attributes essentially convey similar information and therefore can be trimmed to a single feature for modeling purposes. Rebounding stats are also correlated fairly strongly with defensive metrics such as contested 2-pt shots or pick-and-roll roll-man defense, which intuitively make sense since defending paint shots usually yields rebounds. \n",
    "- `STL/MIN` and `Deflections/MIN` have a strong positive correlation as expected and can be truncated as well.\n",
    "- Interestingly, `Opp3P%` is strongly correlated with the specific breakdown for above-the-break 3's FG% (`opp_ATB3_FG%`) as expected, but not as strongly with corner threes (`opp_Corner3_FG%`). Therefore, the former can be removed to keep only the latter two which convey more information.\n",
    "- `%opp_pnrbh_FGA` is strongly correlated with the handoff and offscreen counterparts and consist of redundant info that could also be trimmed before modeling.\n",
    "\n",
    "As there are a few missing values for some defensive attributes, columns that contain redundant info can be trimmed as a strategy to solve both issues. Overall, the defensive metrics had less correlations amongst each other but a deeper look into pair-wise plots can help parse through the attribute interactions further to better inform the modeling stages."
   ]
  },
  {
   "cell_type": "markdown",
   "id": "1176bff8-c073-4d4c-8d28-b5775365a1ec",
   "metadata": {},
   "source": [
    "#### AutoViz -- Offensive Stats:"
   ]
  },
  {
   "cell_type": "code",
   "execution_count": null,
   "id": "441aa1a9-0e37-4e1c-81dc-7cc5df05ab43",
   "metadata": {},
   "outputs": [],
   "source": [
    "av_off_report = AutoViz_Class().AutoViz('', dfte=player_df[off_cols], chart_format='bokeh', lowess=False) "
   ]
  },
  {
   "cell_type": "markdown",
   "id": "6627c9f7-9f8c-48de-b8b5-df5e72a85610",
   "metadata": {},
   "source": [
    "Executing AutoViz on the offensive data generated pair-wise attribute plots, KDE plots, scaled violin plots, and heatmap of correlations. Although some of this information was already gathered through previous methods, there are still some insights that can be drawn from this.\n",
    "\n",
    "The most interesting observations from the pair-wise plots include:\n",
    "- There are attribute pairs that seemed redundant when examined only through the lens of correlation, but the pair-wise plots illuminate how digging deeper can show that these attributes might still be valuable as stand-alone features to distinguish players. For example, `PassesMade/POSS` and `ASTAdj/POSS` have an incredibly strong positive correlation, but the pair-wise plot shows how there are some outlier players who pass a lot without generating assists, and some players who pass less but pass better (in terms of leading to a scoring play and therefore an assist). The pair-wise plots also show the importance of `ScreenAssists/POSS` info as these assists seem completely independent of other passing metrics (as expected). \n",
    "- Assessing `ASTAdj/POSS` vs. offensive plays shows interesting relationships -- assists linearly grow if a greater proportion of a player's FGA come from pick-and-roll plays, while the opposite holds true for transition plays. On the flip side, weighing assists against ball-handling stats such touch-time or dribbles shows that there is a positive linear and negative linear relationship with increased and decreased touch-time/dribbles respectively. Corner3-specialists also seem to have lower assist rates. All this points to the pattern that when the ball is less in the hands of a player, they are less likely to generate assists which makes intuitive sense. \n",
    "- A player's 2-pt FG% trends better if more of their shot profile involves assisted plays rather than unassisted attempts. However, interestingly there is no such trend for the 3-pt counterpart attributes. 2-FG% improves depending on the zone on the court as expected as well (restricted area yielding the most efficient 2s) while no such clear pattern is discernable for the 3-pt shot. Interestingly, the time the ball is in the hands of a player affects 2-PT efficiency as well unlike 3. This last trend intuitively makes sense since a lot of restricted-area 2FGA are assisted from the primary ball handlers and yield high-percentage shots. However, for the 3-pt shot, there isn't a strong trend between efficiency vs. zones (corner vs. atb) nor styles (catch-and-shoot vs. pullup)\n",
    "- Some play styles affect free throw rate for a player: isolation plays and post ups."
   ]
  },
  {
   "cell_type": "markdown",
   "id": "969c01e1-b177-4b8d-a809-bfa2bdd6cc39",
   "metadata": {},
   "source": [
    "#### AutoViz -- Defensive Stats:"
   ]
  },
  {
   "cell_type": "code",
   "execution_count": null,
   "id": "907e3760-0b60-4e7b-8b4d-6b95da22b196",
   "metadata": {},
   "outputs": [],
   "source": [
    "av_def_report = AutoViz_Class().AutoViz('', dfte=player_df[def_cols], chart_format='bokeh', lowess=False) "
   ]
  },
  {
   "cell_type": "markdown",
   "id": "0a42c876-5241-49cc-83b5-3447f96abbfa",
   "metadata": {},
   "source": [
    "Executing AutoViz on the defensive data generated pair-wise attribute plots, KDE plots, scaled violin plots, and heatmap of correlations. Although some of this information was already gathered through previous methods, there are still some insights that can be drawn from this.\n",
    "\n",
    "The most interesting observations from the pair-wise plots include:\n",
    "- Similar to the offensive attributes, some correlated pairs show meaningful exceptions to the rule such as `REB/MIN` and `BLK/MIN`. Although it intuitively makes sense why these features would be correlated, since they mark the role of a big man, there are enough outliers that prevent us from regarding these as redundant variables. A modeling algorithm that can parse these in relation to the rest of the attributes could be invaluable in discerning between different types of players. On the other hand, some correlated features can be further confirmed as redundant based on pair-wise plots such as `STL/min` and `Deflections/MIN`.\n",
    "- Interestingly, opponent's 3-PT % doesn't hold a strong linear visual trend based on corner vs above-the-break threes, indicating the variation in defending shots for those two separate zones.\n",
    "- Most surprisingly, charges-drawn seemed fairly independent of FGA from restricted area vs. nonRA in the paint."
   ]
  },
  {
   "cell_type": "markdown",
   "id": "0659d1d7-9a97-4dac-a6cc-fc9d54f3a270",
   "metadata": {},
   "source": [
    "## 3C: Generate Advanced Visuals: Distributions / Interactions\n",
    "\n",
    "**Objective:** This section digs deeper into the insights from 3B and explores more advanced visualization techniques to convey findings.\n",
    "\n",
    "----"
   ]
  },
  {
   "cell_type": "markdown",
   "id": "a9364ce1-8784-4692-b5fc-f30d646271b6",
   "metadata": {},
   "source": [
    "#### Generate violin-swarm plots as a visual approach to examining descriptive statistics:"
   ]
  },
  {
   "cell_type": "code",
   "execution_count": null,
   "id": "27e69931-c1e9-447a-b9a6-f1052bc3229d",
   "metadata": {},
   "outputs": [],
   "source": [
    "# Create list of columns and colors to generate violin plots for (only numeric attributes)\n",
    "violin_cols = player_df.drop(columns=['PLAYER', 'POS', 'TEAM']).columns.tolist()\n",
    "random.shuffle(violin_cols)\n",
    "cols_set1 = violin_cols.copy()\n",
    "random.shuffle(violin_cols)\n",
    "cols_set2 = violin_cols.copy()\n",
    "violin_colors = list(sns.color_palette())\n",
    "\n",
    "@interact\n",
    "def generate_report(attr1=cols_set1, attr2=cols_set2):\n",
    "    \"\"\"Generates comparative violin-swarm plots for two attributes.\"\"\"\n",
    "    \n",
    "    fig, axs = plt.subplots(1, 2, figsize=(10, 4))\n",
    "    \n",
    "    color1 = list(random.sample(violin_colors, len(violin_colors)))\n",
    "    color2 = list(random.sample(violin_colors, len(violin_colors)))\n",
    "\n",
    "    sns.violinplot(y=attr1, data=player_df, ax=axs[0], palette=color1)\n",
    "    sns.swarmplot(y=attr1, data=player_df, ax=axs[0], color='black')\n",
    "    \n",
    "    sns.violinplot(y=attr2, data=player_df, ax=axs[1], palette=color2)\n",
    "    sns.swarmplot(y=attr2, data=player_df, ax=axs[1], color='black')\n",
    "\n",
    "    plt.tight_layout()\n",
    "    plt.show()\n",
    "    \n",
    "    return "
   ]
  },
  {
   "cell_type": "markdown",
   "id": "2853c04c-6ca0-40b6-8ff8-26f9ace2aea3",
   "metadata": {},
   "source": [
    "Swarm-violin plots allows us to take a deeper look at how the data points of an attribute are distributed and helps visually spot outliers, central tendencies, and the amount of zero-values. These plots highlight the diversity of the attributes in the dataset, which was anticipated based on the initial cleaning and scraping measures. The above tool allows toggling between features for an easier comparison among all the attributes available in the cleaned dataset. "
   ]
  },
  {
   "cell_type": "markdown",
   "id": "0b86e6ae-7130-456a-8b6f-6d41365f2ba7",
   "metadata": {},
   "source": [
    "#### Generate pair-wise scatter plots with specific player info conveyed:"
   ]
  },
  {
   "cell_type": "code",
   "execution_count": null,
   "id": "bc430ac7-9b15-4f58-a4e5-75d2f95ab505",
   "metadata": {},
   "outputs": [],
   "source": [
    "# Create list of columns and colors to generate violin plots for (only numeric attributes)\n",
    "violin_cols = player_df.drop(columns=['PLAYER', 'POS', 'TEAM']).columns.tolist()\n",
    "random.shuffle(violin_cols)\n",
    "cols_set1 = violin_cols.copy()\n",
    "random.shuffle(violin_cols)\n",
    "cols_set2 = violin_cols.copy()\n",
    "violin_colors = list(sns.color_palette())\n",
    "\n",
    "@interact\n",
    "def generate_report(attr1=cols_set1, attr2=cols_set2):\n",
    "    \"\"\"Generates comparative violin-swarm plots for two attributes.\"\"\"\n",
    "    \n",
    "    fig, axs = plt.subplots(1, 2, figsize=(10, 4))\n",
    "    \n",
    "    color1 = list(random.sample(violin_colors, len(violin_colors)))\n",
    "    color2 = list(random.sample(violin_colors, len(violin_colors)))\n",
    "\n",
    "    sns.violinplot(y=attr1, data=player_df, ax=axs[0], palette=color1)\n",
    "    sns.swarmplot(y=attr1, data=player_df, ax=axs[0], color='black')\n",
    "    \n",
    "    sns.violinplot(y=attr2, data=player_df, ax=axs[1], palette=color2)\n",
    "    sns.swarmplot(y=attr2, data=player_df, ax=axs[1], color='black')\n",
    "\n",
    "    plt.tight_layout()\n",
    "    plt.show()\n",
    "    \n",
    "    return "
   ]
  },
  {
   "cell_type": "markdown",
   "id": "452d94ae-17d1-4bba-8df7-df5adfa3ade2",
   "metadata": {},
   "source": [
    "#### Explore lineup data:"
   ]
  },
  {
   "cell_type": "code",
   "execution_count": null,
   "id": "5fa7689d-0e8a-4c53-b279-77824943ac33",
   "metadata": {},
   "outputs": [],
   "source": [
    "passing_cols = ['PassesMade/POSS', 'PassesReceived/POSS', 'ScreenAssists/POSS', 'ASTAdj/POSS', 'TOV/POSS']\n",
    "scoring_cols = ['2P%', '3P%', 'FT%', '%PTSFT', '%RA_FGA', '%PT_nonRA_FGA', '%MR_FGA', '%cns_2FGA', '%pullup_2FGA',\n",
    "       '%Corner3_FGA', '%ATB3_FGA', '%cns_3PA', '%pullup_3PA', '2FGM%UAST', '3FGM%UAST', '%trsn_FGA', '%iso_FGA', '%pnrbh_FGA', '%pnrrm_FGA',\n",
    "       '%postup_FGA', '%spotup_FGA', '%handoff_FGA', '%cuts_FGA','%offscrn_FGA', '%putbk_FGA']\n",
    "def_cols = ['REB/MIN', 'ContestedREB%', 'AVG REBDistance',\n",
    "       'Box Outs/MIN', 'STL/MIN', 'BLK/MIN', 'Deflections/MIN',\n",
    "       'Loose BallsRecovered/MIN', 'ChargesDrawn/MIN',\n",
    "       'Contested2PT Shots/MIN', 'Contested3PT Shots/MIN', 'OppTOV/MIN',\n",
    "       'OppPF/MIN', 'OppFTA/MIN', 'Opp2P%', '%opp_RA_FGA', 'opp_RA_FG%',\n",
    "       '%opp_PT_nonRA_FGA', 'opp_PT_nonRA_FG%', '%opp_MR_FGA', 'opp_MR_FG%',\n",
    "       'Opp3P%', '%opp_Corner3_FGA', 'opp_Corner3_FG%', '%opp_ATB3_FGA',\n",
    "       'opp_ATB3_FG%', '%opp_iso_FGA', 'opp_iso_FG%', '%opp_pnrbh_FGA',\n",
    "       'opp_pnrbh_FG%', '%opp_pnrrm_FGA', 'opp_pnrrm_FG%', '%opp_postup_FGA',\n",
    "       'opp_postup_FG%', '%opp_spotup_FGA', 'opp_spotup_FG%',\n",
    "       '%opp_handoff_FGA', 'opp_handoff_FG%', '%opp_offscrn_FGA',\n",
    "       'opp_offscrn_FG%']\n",
    "\n",
    "from sklearn.preprocessing import MinMaxScaler\n",
    "scaler = MinMaxScaler()\n",
    "ldf = pd.read_csv('lineup_agg_stats.csv')\n",
    "ldf[ldf.columns[7:]] = scaler.fit_transform(ldf[ldf.columns[7:]])\n",
    "\n",
    "def plot_subset(df, cols):\n",
    "    \"\"\"Prepares input dataframe and cols to stratify by net rating for plotting.\"\"\"\n",
    "    \n",
    "    # Create subset dataframes\n",
    "    plus_df = df[df.NetRtg > 0]\n",
    "    plus_df = plus_df[cols]\n",
    "    minus_df = df[df.NetRtg < 0]\n",
    "    minus_df = minus_df[cols]\n",
    "\n",
    "    # Gather data for viz\n",
    "    plus_dat = pd.DataFrame(plus_df.mean())\n",
    "    minus_dat = pd.DataFrame(minus_df.mean())\n",
    "\n",
    "    plus_dat['net'] = '+'\n",
    "    minus_dat['net'] = '-'\n",
    "    \n",
    "    comp_df = plus_dat.append(minus_dat)\n",
    "    \n",
    "    return comp_df\n",
    "\n",
    "passing_df = plot_subset(ldf, passing_cols)\n",
    "scoring_df = plot_subset(ldf, scoring_cols)\n",
    "defense_df = plot_subset(ldf, def_cols)"
   ]
  },
  {
   "cell_type": "code",
   "execution_count": null,
   "id": "3a56671d-699f-4e50-a69a-b32ed72159c3",
   "metadata": {},
   "outputs": [],
   "source": [
    "fig, ax = plt.subplots(3, 1, figsize=(14, 10))\n",
    "\n",
    "sns.barplot(x=passing_df.index, y=passing_df[0], hue=passing_df.net, ax=ax[0])\n",
    "sns.barplot(x=scoring_df.index, y=scoring_df[0], hue=scoring_df.net, ax=ax[1])\n",
    "sns.barplot(x=defense_df.index, y=defense_df[0], hue=defense_df.net, ax=ax[2])\n",
    "\n",
    "plt.tight_layout()\n",
    "# ax[0].set_xticklabels(passing_df.index.tolist()[:5], rotation=45)\n",
    "ax[1].set_xticklabels(scoring_df.index.tolist()[:25], rotation=45)\n",
    "ax[2].set_xticklabels(defense_df.index.tolist()[:40], rotation=45)\n",
    "fig.subplots_adjust(hspace=0.6)\n",
    "plt.show()"
   ]
  },
  {
   "cell_type": "markdown",
   "id": "f97c987b-16bf-4af2-94b3-00f2749f6cda",
   "metadata": {},
   "source": [
    "Based on the passing stats, there doesn't seem to be much separating winning and losing lineups. Scoring and defense have attributes showing more separation. As expected, the winning lineups shoot with better efficiency. However, the more insightful observation is that positive lineups shoot more on catch-and-shoot and less on pull-ups and have more field goals unassisted. On the defensive side, opponents shooting more from above the break interestingly leads to negative lineups. The same pattern holds true for spot up shots."
   ]
  },
  {
   "cell_type": "markdown",
   "id": "fd08c7e3-39b7-491c-8af8-2e4ca031af79",
   "metadata": {},
   "source": [
    "## 3D: Generate Advanced Visuals: SHOT CHARTS\n",
    "\n",
    "**Objective:** This section generates shot-charts commonly used in the industry to assess players.\n",
    "\n",
    "Note: *nbashots* and *nba-shotcharts* modules were unable to be installed due to version-conflicts with other packages that were necessary for this project environment. Therefore, instead of importing pre-built functions to generate the visuals, modified versions were created below following the methodologies provided in the documentation of the originals. However, to fit the scope and objective of this project, which relied on aggregated stats (lineups) rather than individual players, customizations were designed where appropriate in order to explore these visuals in a context that made most sense for this project.\n",
    "\n",
    "----"
   ]
  },
  {
   "cell_type": "markdown",
   "id": "b5a31657-cf92-457f-bf0a-ff82c4e06741",
   "metadata": {},
   "source": [
    "#### Gather API's ID info for each player in cleaned dataset:"
   ]
  },
  {
   "cell_type": "code",
   "execution_count": null,
   "id": "7201e67d-cc08-46a9-9eb1-2c3bc10c9896",
   "metadata": {},
   "outputs": [],
   "source": [
    "# Get cleaned dataset\n",
    "player_df = pd.read_csv('./cln_comprehensive_stats.csv', sep=',', header=0, index_col=None)\n",
    "\n",
    "# Get player info from API\n",
    "plyr_id_df = pd.DataFrame(p.get_players())\n",
    "\n",
    "# Clean edge-case names to standardize with cleaned df\n",
    "plyr_id_df['full_name'] = plyr_id_df.full_name.replace(\"Nah'Shon Hyland\", \"Bones Hyland\")\n",
    "plyr_id_df['full_name'] = plyr_id_df.full_name.replace(\"Kenyon Martin\", \"Kenyon Martin Jr.\")\n",
    "\n",
    "# Filter for players that exist in clean df\n",
    "plyr_id_df = plyr_id_df[plyr_id_df.full_name.isin(player_df.PLAYER)].reset_index(drop=True)\n",
    "\n",
    "# Rename columns\n",
    "plyr_id_df = plyr_id_df.rename(columns={'id': 'player_id', 'full_name': 'name'})[['name', 'player_id']]"
   ]
  },
  {
   "cell_type": "code",
   "execution_count": null,
   "id": "1ccf3260-1a30-460b-aa67-b1a6e9c591fb",
   "metadata": {},
   "outputs": [],
   "source": [
    "# Gather team ID info\n",
    "team_id_df = pd.DataFrame(t.get_teams())[['id', 'abbreviation']]\n",
    "\n",
    "# Replace team info with team ID\n",
    "# (plyr_id_df.name == player_df.PLAYER).sum()  # verify player order is same\n",
    "plyr_id_df['team_id'] = player_df.TEAM.map(lambda x: team_id_df[team_id_df.abbreviation == x]['id'].values[0])\n",
    "\n",
    "plyr_id_df.to_csv('id.csv', index=False)\n",
    "plyr_id_df"
   ]
  },
  {
   "cell_type": "markdown",
   "id": "ddcc6bc9-6c70-4456-b4ec-849e9a9559b4",
   "metadata": {},
   "source": [
    "#### Get player shot details:"
   ]
  },
  {
   "cell_type": "code",
   "execution_count": null,
   "id": "627db343-b189-4486-9c86-dc613292cab8",
   "metadata": {},
   "outputs": [],
   "source": [
    "id_df = pd.read_csv('id.csv')"
   ]
  },
  {
   "cell_type": "code",
   "execution_count": null,
   "id": "8d26b83f-d4b3-4a59-9615-08de1514d579",
   "metadata": {},
   "outputs": [],
   "source": [
    "# # Instantiate df from first record\n",
    "# shot_profile_df, league_profile_df = shotchartdetail.ShotChartDetail(\n",
    "#     team_id=int('1610612761'), player_id=int('1630173'), season_type_all_star='Regular Season', season_nullable='2021-22', context_measure_simple=\"FGA\"\n",
    "# ).get_data_frames()\n",
    "\n",
    "# league_profile_df.to_csv('league_avg.csv', index=False)"
   ]
  },
  {
   "cell_type": "code",
   "execution_count": null,
   "id": "52896c31-e525-42d9-9a04-08bb7005562f",
   "metadata": {},
   "outputs": [],
   "source": [
    "# for i in range(len(id_df)):\n",
    "    \n",
    "#     # Grab IDs\n",
    "#     tid = id_df.iloc[i]['team_id']\n",
    "#     pid = id_df.iloc[i]['player_id']\n",
    "    \n",
    "#     # Get player's shot profile\n",
    "#     shot_prof = shotchartdetail.ShotChartDetail(\n",
    "#             team_id=int(tid), player_id=int(pid), season_type_all_star='Regular Season', season_nullable='2021-22', context_measure_simple=\"FGA\"\n",
    "#     ).get_data_frames()[0]\n",
    "    \n",
    "#     # Add data to master\n",
    "#     shot_profile_df = pd.concat([shot_profile_df, shot_prof], ignore_index=True, axis=0)\n",
    "    \n",
    "#     # Prevent timeouts\n",
    "#     sleep(2)\n",
    "    "
   ]
  },
  {
   "cell_type": "code",
   "execution_count": null,
   "id": "63fbb304-d87c-4206-ab16-4d4a2f8b3d36",
   "metadata": {},
   "outputs": [],
   "source": [
    "# shot_profile_df.to_csv('shot_profiles.csv', index=False)"
   ]
  },
  {
   "cell_type": "markdown",
   "id": "5c6f2fb5-1b3a-4f66-bbd8-f02d9a488dfd",
   "metadata": {},
   "source": [
    "#### Create data subsets for visuals:"
   ]
  },
  {
   "cell_type": "code",
   "execution_count": null,
   "id": "4c74a716-1b5d-4e41-8c42-7fd6118e3d4c",
   "metadata": {},
   "outputs": [],
   "source": [
    "shots_df = pd.read_csv('shot_profiles.csv')\n",
    "league_df = pd.read_csv('league_avg.csv')\n",
    "shots_df"
   ]
  },
  {
   "cell_type": "code",
   "execution_count": null,
   "id": "95441293-7548-4737-bb34-9a7a59f5c7f3",
   "metadata": {},
   "outputs": [],
   "source": [
    "lineup_df = pd.read_csv('cln_lineup_stats.csv')\n",
    "\n",
    "# +5 NetRating, with minimum 40min played\n",
    "pos_rat_df = lineup_df[(lineup_df.NetRtg >= 5) & (lineup_df.MIN > 40)]\n",
    "pos_rat_plyrs = np.ndarray.flatten(np.array(pos_rat_df.Lineups.str.split(', ').values.tolist()))\n",
    "pos_rat_df = shots_df[shots_df['PLAYER_NAME'].isin(pos_rat_plyrs)]"
   ]
  },
  {
   "cell_type": "markdown",
   "id": "a4d4ac8c-084c-4815-8088-cd66070446fd",
   "metadata": {},
   "source": [
    "#### Create helper functions to generate plots for the court and shots:"
   ]
  },
  {
   "cell_type": "code",
   "execution_count": null,
   "id": "585ba3c2-99d8-4d29-b093-c63f261931e9",
   "metadata": {},
   "outputs": [],
   "source": [
    "def plot_halfcourt(ax, ver):\n",
    "    \"\"\"Creates half-court visual on given input axes object. Methodology followed from: nbashots module\"\"\"\n",
    "    \n",
    "    if ver == 1:\n",
    "        clr = 'White'\n",
    "        ax.set_facecolor('Black')\n",
    "    else:\n",
    "        clr = 'Black'\n",
    "    \n",
    "    # Plot basket-area elements\n",
    "    hoop = Circle((0, 60), radius=15, linewidth=2, color=clr, fill=False)\n",
    "    backboard = Rectangle((-30, 40), 60, 0, linewidth=2, color=clr)\n",
    "    ra_arc = Arc((0, 60), 80, 80, theta1=0, theta2=180, linewidth=1, color=clr)\n",
    "\n",
    "    # Plot paint-area elements\n",
    "    paint_o = Rectangle((-80, -10), 160, 190, linewidth=2, color=clr, fill=False)\n",
    "    paint_i = Rectangle((-60, -10), 120, 190, linewidth=2, color=clr, fill=False)\n",
    "    ft_arc = Arc((0, 180), 120, 120, theta1=0, theta2=180, linewidth=2, color=clr, fill=False)\n",
    "    ft_arc2 = Arc((0, 180), 120, 120, theta1=180, theta2=0, linewidth=2, color=clr, linestyle='dashed')\n",
    "    \n",
    "    # Plot 3-pt area elements\n",
    "    lc = Rectangle((-220, -10), 0, 160, linewidth=2, color=clr)\n",
    "    rc = Rectangle((220, -10), 0, 160, linewidth=2, color=clr)\n",
    "    arc = Arc((0, 140), 440, 315, theta1=0, theta2=180, linewidth=2, color=clr)\n",
    "    hc_arc = Arc((0, 482.5), 120, 120, theta1=180, theta2=0, linewidth=2, color=clr)\n",
    "    \n",
    "    # Add each element as a patch to axis\n",
    "    objects = [hoop, backboard, ra_arc, paint_o, paint_i, ft_arc, ft_arc2, lc, rc, arc, hc_arc]\n",
    "    for i in objects:\n",
    "        # ax.add_patch(i)\n",
    "        ax.add_artist(i)\n",
    "    \n",
    "    # Remove tick labels and set viewpoint\n",
    "    ax.set_xlim(-250, 250)\n",
    "    ax.set_ylim(0, 470)\n",
    "    ax.set_xticks([])\n",
    "    ax.set_yticks([])\n",
    "    \n",
    "    return ax\n",
    "\n",
    "# fig, ax = plt.subplots(1, 1)\n",
    "# ax = plot_halfcourt(ax)\n",
    "# plt.tight_layout()\n",
    "# plt.show()"
   ]
  },
  {
   "cell_type": "markdown",
   "id": "1a3f3a9f-70ee-4faf-b5e0-6d8649044319",
   "metadata": {},
   "source": [
    "#### Visualize shot-chart via hex-bins for players in positive lineups:"
   ]
  },
  {
   "cell_type": "code",
   "execution_count": null,
   "id": "3c3ec93b-083f-40e3-88cf-fa89c5c6911c",
   "metadata": {},
   "outputs": [],
   "source": [
    "fig, ax = plt.subplots(1, 1, figsize=(10, 8))\n",
    "\n",
    "ax.hexbin(pos_rat_df['LOC_X'], pos_rat_df['LOC_Y']+60, gridsize=(100, 100), bins='log', cmap='seismic')  \n",
    "ax = plot_halfcourt(ax, 1)\n",
    "\n",
    "plt.tight_layout()\n",
    "plt.show()"
   ]
  },
  {
   "cell_type": "code",
   "execution_count": null,
   "id": "e6c34ae1-30f0-4eb9-81f3-05a1557d4510",
   "metadata": {},
   "outputs": [],
   "source": [
    "plot = sns.jointplot(pos_rat_df.LOC_X, pos_rat_df.LOC_Y+60, kind='kde', space=0, color=cm.gist_heat_r(0.1), fill=True, cmap=cm.gist_heat_r, n_levels=50, ax=ax)\n",
    "plot.fig.set_size_inches(10, 8)\n",
    "ax = plot.ax_joint\n",
    "plot_halfcourt(ax, 2)\n",
    "\n",
    "plt.tight_layout()\n",
    "plt.show()"
   ]
  },
  {
   "cell_type": "code",
   "execution_count": null,
   "id": "fad1f492-a9c6-487e-83dc-3d048ee10588",
   "metadata": {},
   "outputs": [],
   "source": [
    "pos_rat_df"
   ]
  },
  {
   "cell_type": "code",
   "execution_count": null,
   "id": "476c968b-3e72-4bc8-9764-b4e2614f3d8b",
   "metadata": {},
   "outputs": [],
   "source": []
  }
 ],
 "metadata": {
  "kernelspec": {
   "display_name": "Python 3 (ipykernel)",
   "language": "python",
   "name": "python3"
  },
  "language_info": {
   "codemirror_mode": {
    "name": "ipython",
    "version": 3
   },
   "file_extension": ".py",
   "mimetype": "text/x-python",
   "name": "python",
   "nbconvert_exporter": "python",
   "pygments_lexer": "ipython3",
   "version": "3.9.7"
  }
 },
 "nbformat": 4,
 "nbformat_minor": 5
}
